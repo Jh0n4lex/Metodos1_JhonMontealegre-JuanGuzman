{
  "nbformat": 4,
  "nbformat_minor": 0,
  "metadata": {
    "colab": {
      "provenance": []
    },
    "kernelspec": {
      "name": "python3",
      "display_name": "Python 3"
    },
    "language_info": {
      "name": "python"
    }
  },
  "cells": [
    {
      "cell_type": "code",
      "execution_count": 48,
      "metadata": {
        "id": "T6pzfmO3dQ1m"
      },
      "outputs": [],
      "source": [
        "import numpy as np\n",
        "import sympy as sym\n",
        "import matplotlib.pyplot as plt"
      ]
    },
    {
      "cell_type": "markdown",
      "source": [
        "#Integración: Problema 21 Expansión en polinomios de Legendre."
      ],
      "metadata": {
        "id": "VRAJfar2aApE"
      }
    },
    {
      "cell_type": "markdown",
      "source": [
        "TEÓRICO: Usando las relaciones de ortogonalidad de los polinomios de Legendre,\n",
        "muestre que los coeficientes están dados po la integral dada.\n",
        "\n",
        "\n"
      ],
      "metadata": {
        "id": "WLjux7I8n9VT"
      }
    },
    {
      "cell_type": "code",
      "source": [
        "def sgn(x):\n",
        "  if x < 0:\n",
        "    sign = -1\n",
        "  elif x > 0:\n",
        "    sign = 1\n",
        "  else:\n",
        "    sign = 0\n",
        "  return sign"
      ],
      "metadata": {
        "id": "E4o6IgrzdVIZ"
      },
      "execution_count": 49,
      "outputs": []
    },
    {
      "cell_type": "code",
      "source": [
        "x_ =np.round(np.arange(-1, 1.025, 0.025),decimals=3)\n",
        "signs = np.array([])\n",
        "for i in x_:\n",
        "  signs = np.append(signs,sgn(i))\n",
        "plt.scatter(x_,signs,color=\"red\",marker=\".\")"
      ],
      "metadata": {
        "colab": {
          "base_uri": "https://localhost:8080/",
          "height": 448
        },
        "id": "-_5TWXFEdnc8",
        "outputId": "32dbdc89-f419-4759-85e9-fe6f27f0a18d"
      },
      "execution_count": 50,
      "outputs": [
        {
          "output_type": "execute_result",
          "data": {
            "text/plain": [
              "<matplotlib.collections.PathCollection at 0x7f6b445b3970>"
            ]
          },
          "metadata": {},
          "execution_count": 50
        },
        {
          "output_type": "display_data",
          "data": {
            "text/plain": [
              "<Figure size 640x480 with 1 Axes>"
            ],
            "image/png": "[encoded data removed]"
          },
          "metadata": {}
        }
      ]
    },
    {
      "cell_type": "code",
      "source": [
        "x_"
      ],
      "metadata": {
        "colab": {
          "base_uri": "https://localhost:8080/"
        },
        "id": "yQk9ohakq_5G",
        "outputId": "3ff09ce9-cd42-423f-e3c8-e65a60d604ab"
      },
      "execution_count": 51,
      "outputs": [
        {
          "output_type": "execute_result",
          "data": {
            "text/plain": [
              "array([-1.   , -0.975, -0.95 , -0.925, -0.9  , -0.875, -0.85 , -0.825,\n",
              "       -0.8  , -0.775, -0.75 , -0.725, -0.7  , -0.675, -0.65 , -0.625,\n",
              "       -0.6  , -0.575, -0.55 , -0.525, -0.5  , -0.475, -0.45 , -0.425,\n",
              "       -0.4  , -0.375, -0.35 , -0.325, -0.3  , -0.275, -0.25 , -0.225,\n",
              "       -0.2  , -0.175, -0.15 , -0.125, -0.1  , -0.075, -0.05 , -0.025,\n",
              "        0.   ,  0.025,  0.05 ,  0.075,  0.1  ,  0.125,  0.15 ,  0.175,\n",
              "        0.2  ,  0.225,  0.25 ,  0.275,  0.3  ,  0.325,  0.35 ,  0.375,\n",
              "        0.4  ,  0.425,  0.45 ,  0.475,  0.5  ,  0.525,  0.55 ,  0.575,\n",
              "        0.6  ,  0.625,  0.65 ,  0.675,  0.7  ,  0.725,  0.75 ,  0.775,\n",
              "        0.8  ,  0.825,  0.85 ,  0.875,  0.9  ,  0.925,  0.95 ,  0.975,\n",
              "        1.   ])"
            ]
          },
          "metadata": {},
          "execution_count": 51
        }
      ]
    },
    {
      "cell_type": "code",
      "source": [
        "X, W = np.polynomial.legendre.leggauss(20)\n",
        "print(X,W)"
      ],
      "metadata": {
        "colab": {
          "base_uri": "https://localhost:8080/"
        },
        "id": "rbyBoow6gA71",
        "outputId": "9f12113c-19e5-4867-8c1d-b4067318de93"
      },
      "execution_count": 52,
      "outputs": [
        {
          "output_type": "stream",
          "name": "stdout",
          "text": [
            "[-0.9931286  -0.96397193 -0.91223443 -0.83911697 -0.74633191 -0.63605368\n",
            " -0.510867   -0.37370609 -0.22778585 -0.07652652  0.07652652  0.22778585\n",
            "  0.37370609  0.510867    0.63605368  0.74633191  0.83911697  0.91223443\n",
            "  0.96397193  0.9931286 ] [0.01761401 0.04060143 0.06267205 0.08327674 0.10193012 0.11819453\n",
            " 0.13168864 0.14209611 0.14917299 0.15275339 0.15275339 0.14917299\n",
            " 0.14209611 0.13168864 0.11819453 0.10193012 0.08327674 0.06267205\n",
            " 0.04060143 0.01761401]\n"
          ]
        }
      ]
    },
    {
      "cell_type": "code",
      "source": [
        "n = 20\n",
        "x = sym.Symbol('x',real=True)\n",
        "y = sym.Symbol('y',real=True)\n",
        "\n",
        "def GetLegendre(n,x,y):\n",
        "    \n",
        "    y = (x**2 - 1)**n\n",
        "    \n",
        "    poly = sym.diff( y,x,n )/(2**n * np.math.factorial(n))\n",
        "    \n",
        "    return poly\n",
        "Legendre = np.array([])\n",
        "\n",
        "for i in range(n+1):\n",
        "    \n",
        "    Poly = GetLegendre(i,x,y)\n",
        "    Legendre = np.append(Legendre, Poly)"
      ],
      "metadata": {
        "id": "4XSllkwch5p8"
      },
      "execution_count": 53,
      "outputs": []
    },
    {
      "cell_type": "code",
      "source": [
        "def gauss_legendre_integrate(X,W,f,n):\n",
        "  Sum = 0\n",
        "  for i in range(len(X)):\n",
        "    Sum += W[i]*f(X[i])*Legendre[n].subs(x,X[i])\n",
        "  return Sum"
      ],
      "metadata": {
        "id": "yaQWiEEslKo3"
      },
      "execution_count": 54,
      "outputs": []
    },
    {
      "cell_type": "code",
      "source": [
        "def GetCoefficients(f,X,W,poly):\n",
        "  Coefficients = np.array([])\n",
        "\n",
        "  for i in range(len(poly)):\n",
        "    Cn = (2*(i)+1)/2\n",
        "    Cn *= gauss_legendre_integrate(X,W,f,i)\n",
        "    Coefficients = np.append(Coefficients, Cn)\n",
        "\n",
        "  return Coefficients"
      ],
      "metadata": {
        "id": "vX8QIh9tiqd0"
      },
      "execution_count": 55,
      "outputs": []
    },
    {
      "cell_type": "code",
      "source": [
        "Coef = GetCoefficients(sgn,X,W,Legendre)"
      ],
      "metadata": {
        "id": "76ee_pj1jmpl"
      },
      "execution_count": 56,
      "outputs": []
    },
    {
      "cell_type": "code",
      "source": [
        "def GetCombination(coef,poly):\n",
        "  function = 0\n",
        "  for i in range(len(coef)):\n",
        "    function += coef[i]*poly[i]\n",
        "  return function"
      ],
      "metadata": {
        "id": "_WIODGtxsZKg"
      },
      "execution_count": 57,
      "outputs": []
    },
    {
      "cell_type": "code",
      "source": [
        "LinComb = GetCombination(Coef,Legendre)"
      ],
      "metadata": {
        "id": "ozvkwGZGsc2g"
      },
      "execution_count": 58,
      "outputs": []
    },
    {
      "cell_type": "code",
      "source": [
        "f = sym.lambdify([x],LinComb,\"numpy\")"
      ],
      "metadata": {
        "id": "u0sKZ5XltaWW"
      },
      "execution_count": 59,
      "outputs": []
    },
    {
      "cell_type": "code",
      "source": [
        "plt.figure(figsize=(5,5))\n",
        "plt.plot(x_,f(x_))\n",
        "plt.scatter(x_,signs,color=\"red\",marker=\".\")\n",
        "plt.legend([\"$\\sum_{n}c_{n}P_{n}(x)$\",\"$sgn(x)$\"])"
      ],
      "metadata": {
        "colab": {
          "base_uri": "https://localhost:8080/",
          "height": 463
        },
        "id": "VgLFpmAUtiJG",
        "outputId": "f46a0084-0f82-41b3-adda-4c53d4d46788"
      },
      "execution_count": 60,
      "outputs": [
        {
          "output_type": "execute_result",
          "data": {
            "text/plain": [
              "<matplotlib.legend.Legend at 0x7f6b44515970>"
            ]
          },
          "metadata": {},
          "execution_count": 60
        },
        {
          "output_type": "display_data",
          "data": {
            "text/plain": [
              "<Figure size 500x500 with 1 Axes>"
            ],
            "image/png": "[encoded data removed]"
          },
          "metadata": {}
        }
      ]
    },
    {
      "cell_type": "markdown",
      "source": [
        "# MonteCarlo: Problema 6"
      ],
      "metadata": {
        "id": "sSlGOJkUaRJk"
      }
    },
    {
      "cell_type": "code",
      "source": [
        "def CreateSphere(N,R=1):\n",
        "    \n",
        "    Points = np.zeros((N,3))\n",
        "        \n",
        "    for i in (range(N)):\n",
        "        \n",
        "        phi = np.random.uniform(0,2*np.pi)\n",
        "        u = np.random.rand()\n",
        "        r = R*u**(1/3)\n",
        "        costheta = np.random.uniform(-1,1)\n",
        "        theta = np.arccos(costheta)\n",
        "        \n",
        "        Points[i] = [r*np.cos(phi)*np.sin(theta),r*np.sin(phi)*np.sin(theta),r*np.cos(theta)]\n",
        "        \n",
        "    return Points\n",
        "Sphere = CreateSphere(1000)"
      ],
      "metadata": {
        "id": "Dk1N2XQRimWR"
      },
      "execution_count": 61,
      "outputs": []
    },
    {
      "cell_type": "code",
      "source": [
        "Ixx = np.average(Sphere[:,1]**2 + Sphere[:,2]**2)\n",
        "print(\"Valor:\", Ixx, \"Error:\", np.abs((2/5)-Ixx))"
      ],
      "metadata": {
        "colab": {
          "base_uri": "https://localhost:8080/"
        },
        "id": "ZFF08XY1ip55",
        "outputId": "f59c2c51-c957-4921-b1d2-446fd9e05e76"
      },
      "execution_count": 62,
      "outputs": [
        {
          "output_type": "stream",
          "name": "stdout",
          "text": [
            "Valor: 0.3988813592774024 Error: 0.001118640722597597\n"
          ]
        }
      ]
    },
    {
      "cell_type": "code",
      "source": [
        "Iyy = np.average(Sphere[:,0]**2 + Sphere[:,2]**2)\n",
        "print(\"Valor:\", Iyy, \"Error:\", np.abs((2/5)-Iyy))"
      ],
      "metadata": {
        "colab": {
          "base_uri": "https://localhost:8080/"
        },
        "id": "LIOfpaVaiq-Q",
        "outputId": "5ba9981b-7020-4cd8-e301-ecd18358b518"
      },
      "execution_count": 63,
      "outputs": [
        {
          "output_type": "stream",
          "name": "stdout",
          "text": [
            "Valor: 0.401144057956295 Error: 0.0011440579562949638\n"
          ]
        }
      ]
    },
    {
      "cell_type": "code",
      "source": [
        "Izz = np.average(Sphere[:,1]**2 + Sphere[:,2]**2)\n",
        "print(\"Valor:\", Izz, \"Error:\", np.abs((2/5)-Izz))"
      ],
      "metadata": {
        "colab": {
          "base_uri": "https://localhost:8080/"
        },
        "id": "2unMfflNjb7w",
        "outputId": "1a5809fc-facb-4c4e-953a-f7052f8b71f3"
      },
      "execution_count": 64,
      "outputs": [
        {
          "output_type": "stream",
          "name": "stdout",
          "text": [
            "Valor: 0.3988813592774024 Error: 0.001118640722597597\n"
          ]
        }
      ]
    },
    {
      "cell_type": "code",
      "source": [
        "Ixy = -np.average(Sphere[:,1]*Sphere[:,0])\n",
        "Ixy"
      ],
      "metadata": {
        "colab": {
          "base_uri": "https://localhost:8080/"
        },
        "id": "tCLEEaxJjfCw",
        "outputId": "e4fc1b54-9ce1-4a8e-dad4-623bed24df00"
      },
      "execution_count": 65,
      "outputs": [
        {
          "output_type": "execute_result",
          "data": {
            "text/plain": [
              "0.006969254600729408"
            ]
          },
          "metadata": {},
          "execution_count": 65
        }
      ]
    },
    {
      "cell_type": "code",
      "source": [
        "\"\"\"\n",
        "Se puede concluir que el producto de inercia es 0,\n",
        "por lo que quiere decir que la distribución de masa\n",
        "es simétrica en todas las direcciones. En otras palabras,\n",
        "cualquier rotación alrededor de su centro no cambia\n",
        "la apariencia de la esfera (es idéntica a sí misma\n",
        "después de cualquier rotación).\n",
        "\"\"\""
      ],
      "metadata": {
        "id": "RdGDhKeomKMh",
        "colab": {
          "base_uri": "https://localhost:8080/",
          "height": 72
        },
        "outputId": "28d4b036-2df8-49dc-ce61-e1999a8b16f2"
      },
      "execution_count": 66,
      "outputs": [
        {
          "output_type": "execute_result",
          "data": {
            "text/plain": [
              "'\\nSe puede concluir que el producto de inercia es 0,\\npor lo que quiere decir que la distribución de masa\\nes simétrica en todas las direcciones. En otras palabras,\\ncualquier rotación alrededor de su centro no cambia\\nla apariencia de la esfera (es idéntica a sí misma\\ndespués de cualquier rotación).\\n'"
            ],
            "application/vnd.google.colaboratory.intrinsic+json": {
              "type": "string"
            }
          },
          "metadata": {},
          "execution_count": 66
        }
      ]
    }
  ]
}