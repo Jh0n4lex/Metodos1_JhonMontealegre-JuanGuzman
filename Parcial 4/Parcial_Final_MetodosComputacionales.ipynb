{
  "nbformat": 4,
  "nbformat_minor": 0,
  "metadata": {
    "colab": {
      "provenance": []
    },
    "kernelspec": {
      "name": "python3",
      "display_name": "Python 3"
    },
    "language_info": {
      "name": "python"
    }
  },
  "cells": [
    {
      "cell_type": "markdown",
      "source": [
        "# Parcial Final de Métodos Computacionales"
      ],
      "metadata": {
        "id": "E2csSn7GwQ95"
      }
    },
    {
      "cell_type": "code",
      "source": [
        "import numpy as np\n",
        "import matplotlib.pyplot as plt\n",
        "import pandas as pd\n",
        "import scipy.optimize as spo\n",
        "import warnings"
      ],
      "metadata": {
        "id": "zQ1JHIQL9Hlj"
      },
      "execution_count": null,
      "outputs": []
    },
    {
      "cell_type": "markdown",
      "source": [
        "# Primera parte"
      ],
      "metadata": {
        "id": "JZtEuBzYF8QF"
      }
    },
    {
      "cell_type": "code",
      "execution_count": null,
      "metadata": {
        "id": "e3x7t5envztp"
      },
      "outputs": [],
      "source": [
        "url = \"https://raw.githubusercontent.com/asegura4488/Database/main/MetodosComputacionalesReforma/DataRotacion.csv\"\n",
        "DataFrame = pd.read_csv(url,sep=\",\",engine='python')"
      ]
    },
    {
      "cell_type": "code",
      "source": [
        "DataFrame30 = DataFrame[DataFrame[\"angle\"]==30.]"
      ],
      "metadata": {
        "id": "zI6094NJwZhK"
      },
      "execution_count": null,
      "outputs": []
    },
    {
      "cell_type": "code",
      "source": [
        "h=np.array(DataFrame30[\"h\"])\n",
        "angle=np.array(DataFrame30[\"angle\"])\n",
        "y = np.array(DataFrame30[\"y\"])\n",
        "sigmay = np.array(DataFrame30[\"sigmay\"])"
      ],
      "metadata": {
        "id": "YwWHymf9wZ3p"
      },
      "execution_count": null,
      "outputs": []
    },
    {
      "cell_type": "code",
      "source": [
        "def GetModel(h,w,angle,g):\n",
        "  return (2*np.sqrt(2)/3)*w*np.cos(angle*np.pi/180)*np.sqrt(h**3/g)"
      ],
      "metadata": {
        "id": "spSwX_cK_YJE"
      },
      "execution_count": null,
      "outputs": []
    },
    {
      "cell_type": "code",
      "source": [
        "def Chi2(p,h, y, sigmay, g,angle):\n",
        "  return np.sum((y-GetModel(h,p,angle,g))**2 / (2*sigmay**2))"
      ],
      "metadata": {
        "id": "vxuYTUe6Aepp"
      },
      "execution_count": null,
      "outputs": []
    },
    {
      "cell_type": "code",
      "source": [
        "p0 = np.ones(1)\n",
        "nll = lambda *p: Chi2(*p)"
      ],
      "metadata": {
        "id": "0zfC8h19BBZq"
      },
      "execution_count": null,
      "outputs": []
    },
    {
      "cell_type": "code",
      "source": [
        "result = spo.minimize(nll,p0,args =(h,y,sigmay,9.81,30.0),options={\"disp\":True})"
      ],
      "metadata": {
        "colab": {
          "base_uri": "https://localhost:8080/"
        },
        "id": "M4jmmd8CBCf7",
        "outputId": "ae325ad0-cac1-4979-aebc-f2f12744a711"
      },
      "execution_count": null,
      "outputs": [
        {
          "output_type": "stream",
          "name": "stdout",
          "text": [
            "Optimization terminated successfully.\n",
            "         Current function value: 1.145718\n",
            "         Iterations: 3\n",
            "         Function evaluations: 8\n",
            "         Gradient evaluations: 4\n"
          ]
        }
      ]
    },
    {
      "cell_type": "code",
      "source": [
        "result.x"
      ],
      "metadata": {
        "id": "opKbMKlQfrHK",
        "outputId": "6d349df5-c117-4319-ab6e-b052e6c5bd8b",
        "colab": {
          "base_uri": "https://localhost:8080/"
        }
      },
      "execution_count": null,
      "outputs": [
        {
          "output_type": "execute_result",
          "data": {
            "text/plain": [
              "array([7.24399804e-05])"
            ]
          },
          "metadata": {},
          "execution_count": 9
        }
      ]
    },
    {
      "cell_type": "code",
      "source": [
        "plt.errorbar(h, y, yerr=sigmay, fmt='o', label='Datos')\n",
        "\n",
        "h_fit = np.linspace(min(h), max(h), 1000)\n",
        "y_fit = GetModel(h_fit, result.x, angle=30.0, g=9.8)\n",
        "plt.plot(h_fit, y_fit, label='Ajuste',color=\"red\")\n",
        "\n",
        "plt.xlabel('h[m]')\n",
        "plt.ylabel('y[m]')\n",
        "plt.legend()\n",
        "plt.show()"
      ],
      "metadata": {
        "colab": {
          "base_uri": "https://localhost:8080/",
          "height": 449
        },
        "id": "AgZyTJaVDTXS",
        "outputId": "2cd8c214-1fbe-422f-9903-3b9ecb8eba18"
      },
      "execution_count": null,
      "outputs": [
        {
          "output_type": "display_data",
          "data": {
            "text/plain": [
              "<Figure size 640x480 with 1 Axes>"
            ],
            "image/png": "[encoded data removed]"
          },
          "metadata": {}
        }
      ]
    },
    {
      "cell_type": "markdown",
      "source": [
        "# Segunda Parte"
      ],
      "metadata": {
        "id": "MF53pi5JV1W7"
      }
    },
    {
      "cell_type": "code",
      "source": [
        "def GetData(h,y,sigmay,lambda_):\n",
        "  N = 300\n",
        "  Gravedad = np.zeros(N)\n",
        "  Omega = np.zeros(N)\n",
        "  for i in range(300):\n",
        "    y_modificado = y + np.random.normal(loc=0, scale=sigmay[0], size=len(y))\n",
        "    Gravedad[i] = 9.81 + np.random.normal(loc=0,scale=1)\n",
        "    result = spo.minimize(nll,p0,args =(h,y_modificado,sigmay,Gravedad[i],lambda_))\n",
        "    Omega[i] = result.x[0]\n",
        "  return Gravedad, Omega"
      ],
      "metadata": {
        "id": "almC3HINXhOu"
      },
      "execution_count": null,
      "outputs": []
    },
    {
      "cell_type": "code",
      "source": [
        "Gravedad, Omega = GetData(h,y,sigmay,30.0)"
      ],
      "metadata": {
        "id": "v1GVpox2gR61"
      },
      "execution_count": null,
      "outputs": []
    },
    {
      "cell_type": "code",
      "source": [
        "num_binsx = 29\n",
        "num_binsy = 29\n",
        "\n",
        "H2, binsx, binsy = np.histogram2d(Omega, Gravedad, bins=(num_binsx, num_binsy))\n",
        "\n",
        "fig = plt.figure(figsize=(5,5))\n",
        "ax = fig.add_subplot()\n",
        "ax.contourf(binsx[1:],binsy[1:],H2)"
      ],
      "metadata": {
        "colab": {
          "base_uri": "https://localhost:8080/",
          "height": 480
        },
        "id": "bACuFtLOX-Xb",
        "outputId": "165d4b62-498d-49eb-d2e9-ffdf0fecb982"
      },
      "execution_count": null,
      "outputs": [
        {
          "output_type": "execute_result",
          "data": {
            "text/plain": [
              "<matplotlib.contour.QuadContourSet at 0x7f9a17f5de10>"
            ]
          },
          "metadata": {},
          "execution_count": 170
        },
        {
          "output_type": "display_data",
          "data": {
            "text/plain": [
              "<Figure size 500x500 with 1 Axes>"
            ],
            "image/png": "[encoded data removed]"
          },
          "metadata": {}
        }
      ]
    },
    {
      "cell_type": "code",
      "source": [
        "np.corrcoef(Omega, Gravedad)[0, 1] #Coeficiente de correlación de Pearson"
      ],
      "metadata": {
        "colab": {
          "base_uri": "https://localhost:8080/"
        },
        "id": "f-chpy_-_1Qu",
        "outputId": "0e7e7e94-03d3-45f4-ba39-d72233d54059"
      },
      "execution_count": null,
      "outputs": [
        {
          "output_type": "execute_result",
          "data": {
            "text/plain": [
              "0.729215380613038"
            ]
          },
          "metadata": {},
          "execution_count": 239
        }
      ]
    },
    {
      "cell_type": "markdown",
      "source": [
        "Se puede notar que las variables están correlacionadas porque hay áreas más densas o concentradas en ciertas regiones del gráfico. Además, calculando el coeficiente de correlación de Pearson es posible concluir que las variables están correlacianas al tener un valor cercano a 1"
      ],
      "metadata": {
        "id": "gLEwJAF4_bKr"
      }
    },
    {
      "cell_type": "code",
      "source": [
        "binsx"
      ],
      "metadata": {
        "colab": {
          "base_uri": "https://localhost:8080/"
        },
        "id": "ljzW8v6H-Xh6",
        "outputId": "b98cb33f-7208-4596-9207-c54e3a1178f9"
      },
      "execution_count": null,
      "outputs": [
        {
          "output_type": "execute_result",
          "data": {
            "text/plain": [
              "array([6.10599153e-05, 6.18880749e-05, 6.27162346e-05, 6.35443942e-05,\n",
              "       6.43725538e-05, 6.52007134e-05, 6.60288730e-05, 6.68570327e-05,\n",
              "       6.76851923e-05, 6.85133519e-05, 6.93415115e-05, 7.01696712e-05,\n",
              "       7.09978308e-05, 7.18259904e-05, 7.26541500e-05, 7.34823096e-05,\n",
              "       7.43104693e-05, 7.51386289e-05, 7.59667885e-05, 7.67949481e-05,\n",
              "       7.76231077e-05, 7.84512674e-05, 7.92794270e-05, 8.01075866e-05,\n",
              "       8.09357462e-05, 8.17639058e-05, 8.25920655e-05, 8.34202251e-05,\n",
              "       8.42483847e-05, 8.50765443e-05])"
            ]
          },
          "metadata": {},
          "execution_count": 238
        }
      ]
    },
    {
      "cell_type": "code",
      "source": [
        "H1 = np.sum(H2,axis=1)"
      ],
      "metadata": {
        "id": "6Am93b3KtOAu"
      },
      "execution_count": null,
      "outputs": []
    },
    {
      "cell_type": "code",
      "source": [
        "H1"
      ],
      "metadata": {
        "colab": {
          "base_uri": "https://localhost:8080/"
        },
        "id": "WEyjDLINX6wm",
        "outputId": "76144796-e57b-4ae8-a788-585ae9223abb"
      },
      "execution_count": null,
      "outputs": [
        {
          "output_type": "execute_result",
          "data": {
            "text/plain": [
              "array([ 3.,  4.,  4.,  7.,  9.,  7.,  9., 11.,  9., 25., 16., 25., 20.,\n",
              "       13., 35., 19., 14., 16., 15.,  9.,  8.,  7.,  5.,  0.,  3.,  2.,\n",
              "        0.,  2.,  3.])"
            ]
          },
          "metadata": {},
          "execution_count": 172
        }
      ]
    },
    {
      "cell_type": "code",
      "source": [
        "cs = np.cumsum(H1)"
      ],
      "metadata": {
        "id": "Dk2xgpfUF-GB"
      },
      "execution_count": null,
      "outputs": []
    },
    {
      "cell_type": "code",
      "source": [
        "cs"
      ],
      "metadata": {
        "colab": {
          "base_uri": "https://localhost:8080/"
        },
        "id": "l9ZiPY6hF__Q",
        "outputId": "eb2ea06b-69bb-47f4-d526-6cd33e3be5c0"
      },
      "execution_count": null,
      "outputs": [
        {
          "output_type": "execute_result",
          "data": {
            "text/plain": [
              "array([  3.,   7.,  11.,  18.,  27.,  34.,  43.,  54.,  63.,  88., 104.,\n",
              "       129., 149., 162., 197., 216., 230., 246., 261., 270., 278., 285.,\n",
              "       290., 290., 293., 295., 295., 297., 300.])"
            ]
          },
          "metadata": {},
          "execution_count": 174
        }
      ]
    },
    {
      "cell_type": "code",
      "source": [
        "ij = np.searchsorted( cs, np.percentile(cs,16) )\n",
        "ii = np.searchsorted( cs, np.percentile(cs,50) )\n",
        "ji = np.searchsorted( cs, np.percentile(cs,84) )"
      ],
      "metadata": {
        "id": "iOk6GeyHGEMY"
      },
      "execution_count": null,
      "outputs": []
    },
    {
      "cell_type": "code",
      "source": [
        "ij, ii, ji"
      ],
      "metadata": {
        "colab": {
          "base_uri": "https://localhost:8080/"
        },
        "id": "_E9YWvR3GFIQ",
        "outputId": "dd938290-7bd2-4fcf-b4aa-07c9b79b8ab8"
      },
      "execution_count": null,
      "outputs": [
        {
          "output_type": "execute_result",
          "data": {
            "text/plain": [
              "(5, 14, 24)"
            ]
          },
          "metadata": {},
          "execution_count": 176
        }
      ]
    },
    {
      "cell_type": "code",
      "source": [
        "binsx[1:][ij],binsx[1:][ii],binsx[1:][ji]"
      ],
      "metadata": {
        "colab": {
          "base_uri": "https://localhost:8080/"
        },
        "id": "qPrhbYrRkEsS",
        "outputId": "feea5b23-8c72-4d0e-cb55-87e1a5064b36"
      },
      "execution_count": null,
      "outputs": [
        {
          "output_type": "execute_result",
          "data": {
            "text/plain": [
              "(6.602887304882665e-05, 7.348230963664393e-05, 8.176390584532981e-05)"
            ]
          },
          "metadata": {},
          "execution_count": 177
        }
      ]
    },
    {
      "cell_type": "markdown",
      "source": [
        "Creación de la tabla para cada lambda"
      ],
      "metadata": {
        "id": "Gn1VmS2IaNXg"
      }
    },
    {
      "cell_type": "code",
      "source": [
        "print(\"lambda\",\"omega\",\"intervalo\",\"error_relativo\")\n",
        "lambda_ = [10.,20.,30.,40.,50.,60.,70.]\n",
        "\n",
        "Omegas = []\n",
        "errores = []\n",
        "\n",
        "for i in lambda_:\n",
        "\n",
        "  if i == 70.:\n",
        "    h_new=np.array(DataFrame[\"h\"])\n",
        "    y_new = np.array(DataFrame[\"y\"])\n",
        "    sigmay_new = np.array(DataFrame[\"sigmay\"])\n",
        "    angle_new = np.array(DataFrame[\"angle\"])\n",
        "\n",
        "    Gravedad_new, Omega_new = GetData(h_new,y_new,sigmay_new,angle_new)\n",
        "  \n",
        "  else:\n",
        "\n",
        "    DataFrame_new = DataFrame[DataFrame[\"angle\"]==i]\n",
        "\n",
        "    h_new=np.array(DataFrame_new[\"h\"])\n",
        "    y_new = np.array(DataFrame_new[\"y\"])\n",
        "    sigmay_new = np.array(DataFrame_new[\"sigmay\"])\n",
        "\n",
        "    Gravedad_new, Omega_new = GetData(h_new,y_new,sigmay_new,i)\n",
        "\n",
        "  H2_new, binsx_new, binsy_new = np.histogram2d(Omega_new, Gravedad_new, bins=(num_binsx, num_binsy))\n",
        "\n",
        "  H1_new = np.sum(H2_new,axis=1)\n",
        "  cs_new = np.cumsum(H1_new)\n",
        "\n",
        "  ij_new = np.searchsorted( cs_new, np.percentile(cs_new,16) )\n",
        "  ii_new = np.searchsorted( cs_new, np.percentile(cs_new,50) )\n",
        "  ji_new = np.searchsorted( cs_new, np.percentile(cs_new,84) )\n",
        "\n",
        "  Omega_sort_new = np.sort(Omega_new)\n",
        "\n",
        "  #values = [ Omega_sort_new[int(cs_new[ij_new])], Omega_sort_new[int(cs_new[ii_new])], Omega_sort_new[int(cs_new[ji_new])] ]\n",
        "  values = [binsx_new[1:][ij_new],binsx_new[1:][ii_new],binsx_new[1:][ji_new]]\n",
        "\n",
        "  if i == 70.:\n",
        "    print( \"combined\" ,values[1], [values[0],values[2]], abs(7.27e-5 - values[1])/7.27e-5)\n",
        "  else:\n",
        "    print( i ,values[1], [values[0],values[2]], abs(7.27e-5 - values[1])/7.27e-5)\n",
        "\n",
        "  errores.append(binsx_new[1:][ji_new]*0.5-binsx_new[1:][ij_new]*0.5)\n",
        "  Omegas.append(values[1])"
      ],
      "metadata": {
        "colab": {
          "base_uri": "https://localhost:8080/"
        },
        "id": "k8wnLubARhtu",
        "outputId": "a003221e-e96c-4155-f8a6-6c3b02ec1bd1"
      },
      "execution_count": null,
      "outputs": [
        {
          "output_type": "stream",
          "name": "stdout",
          "text": [
            "lambda omega intervalo error_relativo\n",
            "10.0 6.974334278884065e-05 [6.216885813545196e-05, 7.815943684816139e-05] 0.040669287636304785\n",
            "20.0 7.135476011770178e-05 [6.301563664487751e-05, 8.06204528652843e-05] 0.018503987376866905\n",
            "30.0 7.348622325559249e-05 [6.565840556398116e-05, 8.218379846849394e-05] 0.010814625248864953\n",
            "40.0 7.557971281066832e-05 [6.691523739404918e-05, 8.520690771802292e-05] 0.03961090523615291\n",
            "50.0 7.013350781799809e-05 [6.0737045369745895e-05, 8.057402164938941e-05] 0.035302505942254696\n",
            "60.0 7.587483793023155e-05 [6.390616632893994e-05, 8.917336193166667e-05] 0.04367039793991117\n",
            "combined 7.195915390854619e-05 [6.495771616719686e-05, 7.973852917671215e-05] 0.01019045517818174\n"
          ]
        }
      ]
    },
    {
      "cell_type": "code",
      "source": [
        "plt.errorbar(lambda_, Omegas, yerr=errores, fmt='o', capsize=10, ecolor=\"black\",label=\"Coriolis\")\n",
        "plt.axhline(7.27e-5, color=\"red\",linestyle=\"--\",label= \"Dia Solar\")\n",
        "lambdas_values = [10,20,30,40,50,60,\"Combined\"]\n",
        "plt.xticks(lambda_,lambdas_values)\n",
        "plt.xlabel(\"lambda\")\n",
        "plt.ylabel(\"Coriolis\")\n",
        "plt.legend()"
      ],
      "metadata": {
        "colab": {
          "base_uri": "https://localhost:8080/",
          "height": 482
        },
        "id": "fhSITrE2tgDE",
        "outputId": "2d4a6059-297d-4f67-99c2-dcc9ec897a06"
      },
      "execution_count": null,
      "outputs": [
        {
          "output_type": "execute_result",
          "data": {
            "text/plain": [
              "<matplotlib.legend.Legend at 0x7f9a149800d0>"
            ]
          },
          "metadata": {},
          "execution_count": 272
        },
        {
          "output_type": "display_data",
          "data": {
            "text/plain": [
              "<Figure size 640x480 with 1 Axes>"
            ],
            "image/png": "[encoded data removed]"
          },
          "metadata": {}
        }
      ]
    }
  ]
}