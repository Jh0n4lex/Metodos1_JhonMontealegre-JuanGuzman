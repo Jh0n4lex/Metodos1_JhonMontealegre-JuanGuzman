{
  "nbformat": 4,
  "nbformat_minor": 0,
  "metadata": {
    "colab": {
      "provenance": []
    },
    "kernelspec": {
      "name": "python3",
      "display_name": "Python 3"
    },
    "language_info": {
      "name": "python"
    }
  },
  "cells": [
    {
      "cell_type": "markdown",
      "source": [
        "# Taller 2 de Métodos Computacionales - Capítulo 3 #"
      ],
      "metadata": {
        "id": "6Rc-7ppf-F27"
      }
    },
    {
      "cell_type": "markdown",
      "source": [
        "# Derivación"
      ],
      "metadata": {
        "id": "mxk48Gxc6qUE"
      }
    },
    {
      "cell_type": "code",
      "source": [
        "import numpy as np\n",
        "import sympy as sym\n",
        "import matplotlib.pyplot as plt\n",
        "import pandas as pd\n",
        "import warnings"
      ],
      "metadata": {
        "id": "E8l2Ldndpaif"
      },
      "execution_count": null,
      "outputs": []
    },
    {
      "cell_type": "markdown",
      "source": [
        "Es posible construir una aproximación de orden $O(h^2)$ para la derivada progresiva. Para tal propósito, se escribe el polinomio de interpolación de grado 2 para el conjunto soporte.\n",
        "\n",
        "a) Calcular analíticamente el polinomio que interpola el conjunto soporte (PDF y código).\n",
        "\n",
        "b) Derivar el polinomio interpolador para encontrar la derivada en el punto x (PDF y código)."
      ],
      "metadata": {
        "id": "B1KdGyH-wuLq"
      }
    },
    {
      "cell_type": "code",
      "source": [
        "x = sym.Symbol('x')\n",
        "\n",
        "x0,x1,x2,x3,x4,x5 = sym.symbols(\"x0,x1,x2,x3,x4,x5\")\n",
        "fx0,fx1,fx2,fx3,fx4,fx5 = sym.symbols(\"f(x0),f(x1),f(x2),f(x3),f(x4),f(x5)\")\n",
        "\n",
        "h = sym.Symbol(\"h\")\n",
        "X = [x0,x1,x2]\n",
        "Y = [fx0,fx1,fx2]\n",
        "\n",
        "def Lagrange(x,xi,j):\n",
        "    \n",
        "    prod = 1.0\n",
        "    n = len(xi)\n",
        "    \n",
        "    for i in range(n):\n",
        "        if i != j:\n",
        "            prod *= (x - xi[i])/(xi[j]-xi[i])\n",
        "            \n",
        "    return prod\n",
        "\n",
        "\n",
        "def Interpolate(x,xi,yi):\n",
        "    \n",
        "    Sum = 0.\n",
        "    n = len(xi)\n",
        "    \n",
        "    for j in range(n):\n",
        "        Sum += yi[j]*Lagrange(x,xi,j)\n",
        "        \n",
        "    return Sum\n",
        "\n",
        "polynomial = Interpolate(x, X, Y)\n",
        "polynomial"
      ],
      "metadata": {
        "colab": {
          "base_uri": "https://localhost:8080/",
          "height": 57
        },
        "id": "7obVn8TiwurI",
        "outputId": "23004b33-7754-4074-f851-ba587fa97b14"
      },
      "execution_count": null,
      "outputs": [
        {
          "output_type": "execute_result",
          "data": {
            "text/plain": [
              "1.0*f(x0)*(x - x1)*(x - x2)/((x0 - x1)*(x0 - x2)) + 1.0*f(x1)*(x - x0)*(x - x2)/((-x0 + x1)*(x1 - x2)) + 1.0*f(x2)*(x - x0)*(x - x1)/((-x0 + x2)*(-x1 + x2))"
            ],
            "text/latex": "$\\displaystyle \\frac{1.0 f(x0) \\left(x - x_{1}\\right) \\left(x - x_{2}\\right)}{\\left(x_{0} - x_{1}\\right) \\left(x_{0} - x_{2}\\right)} + \\frac{1.0 f(x1) \\left(x - x_{0}\\right) \\left(x - x_{2}\\right)}{\\left(- x_{0} + x_{1}\\right) \\left(x_{1} - x_{2}\\right)} + \\frac{1.0 f(x2) \\left(x - x_{0}\\right) \\left(x - x_{1}\\right)}{\\left(- x_{0} + x_{2}\\right) \\left(- x_{1} + x_{2}\\right)}$"
          },
          "metadata": {},
          "execution_count": 2
        }
      ]
    },
    {
      "cell_type": "code",
      "source": [
        "Derivative = sym.diff(polynomial,x)\n",
        "#x0 = x, x1 = x+h , x2 = x+2h\n",
        "Derivative = Derivative.subs([(x0,x),(x1,x+h),(x2,x+2*h)])\n",
        "Derivative = sym.simplify(Derivative)\n",
        "Derivative"
      ],
      "metadata": {
        "colab": {
          "base_uri": "https://localhost:8080/",
          "height": 53
        },
        "id": "Y4DqiDDAxNa2",
        "outputId": "90ea71a2-59d3-4e32-9e31-44f030e3fdb4"
      },
      "execution_count": null,
      "outputs": [
        {
          "output_type": "execute_result",
          "data": {
            "text/plain": [
              "(-1.5*f(x0) + 2.0*f(x1) - 0.5*f(x2))/h"
            ],
            "text/latex": "$\\displaystyle \\frac{- 1.5 f(x0) + 2.0 f(x1) - 0.5 f(x2)}{h}$"
          },
          "metadata": {},
          "execution_count": 3
        }
      ]
    },
    {
      "cell_type": "markdown",
      "source": [
        "c)  Para f(x) = $\\sqrt{tan(x)}$ estimar la derivada progresiva de orden $O(h^2)$ en el intervalo $[0.1, 1.1]$ con $h = 0.01$."
      ],
      "metadata": {
        "id": "3PQ_v2XA-MUC"
      }
    },
    {
      "cell_type": "code",
      "source": [
        "def Function(x):\n",
        "  return np.sqrt(np.tan(x))\n",
        "\n",
        "X = np.linspace(0.1,1.1,3)\n",
        "Y = Function(X)\n",
        "\n",
        "def ProgressiveDerivative(f,x,h=0.01):\n",
        "  derivative = (-3*f(x) + 4*f(x+h) - f(x+2*h))/(2*h)\n",
        "  return derivative\n",
        "\n",
        "dy = ProgressiveDerivative(Function,X)\n",
        "plt.plot(X, dy)\n",
        "plt.plot(X,Y)"
      ],
      "metadata": {
        "colab": {
          "base_uri": "https://localhost:8080/",
          "height": 287
        },
        "id": "PHuAI0y3-LxL",
        "outputId": "9c00d0ba-265d-4f05-cb03-6f2c3a634fbc"
      },
      "execution_count": null,
      "outputs": [
        {
          "output_type": "execute_result",
          "data": {
            "text/plain": [
              "[<matplotlib.lines.Line2D at 0x7fc239438c10>]"
            ]
          },
          "metadata": {},
          "execution_count": 4
        },
        {
          "output_type": "display_data",
          "data": {
            "text/plain": [
              "<Figure size 432x288 with 1 Axes>"
            ],
            "image/png": "[encoded data removed]"
          },
          "metadata": {
            "needs_background": "light"
          }
        }
      ]
    },
    {
      "cell_type": "markdown",
      "source": [
        "d)  Para $f(x)=\\sqrt{tan(x)}$ estimar la derivada central de orden $O(h^2)$ en el intervalo $[0.1, 1.1]$ con $h=0.01$."
      ],
      "metadata": {
        "id": "uKbNA60pp2-j"
      }
    },
    {
      "cell_type": "code",
      "source": [
        "def CentralDerivative(f,x,h=0.01):\n",
        "  return (f(x+h)-f(x-h))/(2*h)\n",
        "\n",
        "dy1 = CentralDerivative(Function,X)\n",
        "plt.plot(X, dy1,color=\"r\")\n",
        "plt.plot(X,Y)"
      ],
      "metadata": {
        "id": "M2Mzc959B-nb",
        "colab": {
          "base_uri": "https://localhost:8080/",
          "height": 287
        },
        "outputId": "847c86f5-9f4d-473b-d9f1-83e5d6f22de6"
      },
      "execution_count": null,
      "outputs": [
        {
          "output_type": "execute_result",
          "data": {
            "text/plain": [
              "[<matplotlib.lines.Line2D at 0x7fc236b32d90>]"
            ]
          },
          "metadata": {},
          "execution_count": 5
        },
        {
          "output_type": "display_data",
          "data": {
            "text/plain": [
              "<Figure size 432x288 with 1 Axes>"
            ],
            "image/png": "[encoded data removed]"
          },
          "metadata": {
            "needs_background": "light"
          }
        }
      ]
    },
    {
      "cell_type": "markdown",
      "source": [
        "e) Calcule analíticamente la derivada de la función f(x), y grafique con la estimación central y progresiva de orden $O(h^2)$."
      ],
      "metadata": {
        "id": "EqKx8CCBrGQW"
      }
    },
    {
      "cell_type": "code",
      "source": [
        "def Derivative(x):\n",
        "  return 0.5/(np.cos(x)**2*np.sqrt(np.tan(x)))\n",
        "\n",
        "dy2 = Derivative(X)\n",
        "plt.plot(X, dy,color=\"b\")\n",
        "plt.plot(X, dy1,color=\"r\")\n",
        "plt.plot(X,dy2)"
      ],
      "metadata": {
        "id": "Lx8htNoLqYr0",
        "colab": {
          "base_uri": "https://localhost:8080/",
          "height": 283
        },
        "outputId": "3b300d2e-9500-4563-c52d-c38ab602f84c"
      },
      "execution_count": null,
      "outputs": [
        {
          "output_type": "execute_result",
          "data": {
            "text/plain": [
              "[<matplotlib.lines.Line2D at 0x7fc236ab5880>]"
            ]
          },
          "metadata": {},
          "execution_count": 6
        },
        {
          "output_type": "display_data",
          "data": {
            "text/plain": [
              "<Figure size 432x288 with 1 Axes>"
            ],
            "image/png": "[encoded data removed]"
          },
          "metadata": {
            "needs_background": "light"
          }
        }
      ]
    },
    {
      "cell_type": "markdown",
      "source": [
        "f) Grafique el error nodal para ambas aproximaciones. ¿Tienen efectivamente el mismo orden de precisión ambos resultados?"
      ],
      "metadata": {
        "id": "y0onxcavtv7U"
      }
    },
    {
      "cell_type": "code",
      "source": [
        "error1 = np.abs((dy2 - dy))\n",
        "error2 = np.abs((dy2 - dy1))\n",
        "\n",
        "plt.scatter(X, error1, label='Progressive Derivative')\n",
        "plt.scatter(X, error2, label='Central Derivative')\n",
        "plt.yscale('log')\n",
        "plt.legend()"
      ],
      "metadata": {
        "id": "sk1O_kjBr40T",
        "colab": {
          "base_uri": "https://localhost:8080/",
          "height": 283
        },
        "outputId": "ad482b9e-22ef-441d-dc51-0d5366839e54"
      },
      "execution_count": null,
      "outputs": [
        {
          "output_type": "execute_result",
          "data": {
            "text/plain": [
              "<matplotlib.legend.Legend at 0x7fc236aea160>"
            ]
          },
          "metadata": {},
          "execution_count": 7
        },
        {
          "output_type": "display_data",
          "data": {
            "text/plain": [
              "<Figure size 432x288 with 1 Axes>"
            ],
            "image/png": "[encoded data removed]"
          },
          "metadata": {
            "needs_background": "light"
          }
        }
      ]
    },
    {
      "cell_type": "code",
      "source": [
        "np.set_printoptions(suppress=True)\n",
        "for i in range(len(error1)):\n",
        "  print(\"Error1: {0}, Error2: {1}\".format(np.format_float_scientific(error1[i]), \n",
        "                                          np.format_float_scientific(error2[i])))"
      ],
      "metadata": {
        "id": "ztIYc1sf338m",
        "colab": {
          "base_uri": "https://localhost:8080/"
        },
        "outputId": "77d43add-54a0-4e78-d4ba-8a507b172f80"
      },
      "execution_count": null,
      "outputs": [
        {
          "output_type": "stream",
          "name": "stdout",
          "text": [
            "Error1: 3.35026877390332e-03, Error2: 2.002709390768187e-03\n",
            "Error1: 1.1458921657858667e-04, Error2: 5.706160213025946e-05\n",
            "Error1: 9.272932323096672e-04, Error2: 4.3850465088079993e-04\n"
          ]
        }
      ]
    },
    {
      "cell_type": "markdown",
      "source": [
        "Por lo tanto, contestando a la pregunta y analizando los datos:\n",
        "\n",
        "* El orden de precisión para el primer y tercer valor de error son iguales. Sin embargo, en el segundo dato, la derivada central tiene un orden de precisión mayor.\n",
        "\n",
        "* Parece ser que la derivada central tiene una mejor precisión."
      ],
      "metadata": {
        "id": "7r_eLiyE5tte"
      }
    },
    {
      "cell_type": "markdown",
      "source": [
        "# Raíces de polinomios"
      ],
      "metadata": {
        "id": "q_rvyreK6h6d"
      }
    },
    {
      "cell_type": "markdown",
      "source": [
        "Calcular todas las raíces reales de los primeros 20 polinomios de Laguerre con la fórmula de Rodrigues."
      ],
      "metadata": {
        "id": "pVQ5jgbx61qG"
      }
    },
    {
      "cell_type": "code",
      "source": [
        "def LaguerrePolynomials(x,n):\n",
        "\n",
        "    function = sym.exp(-x)*x**n\n",
        "    derivative = sym.diff(function,x,n)\n",
        "\n",
        "    poly = (sym.exp(x)/sym.factorial(n))\n",
        "    polynomial = poly*derivative\n",
        "\n",
        "    return polynomial\n",
        "\n",
        "x = sym.Symbol('x')\n",
        "y = np.array([])\n",
        "\n",
        "n= 20\n",
        "\n",
        "for i in range(1,n+1): #Se omite el primer polinomio porque es 1\n",
        "\n",
        "    f = sym.simplify(LaguerrePolynomials(x,i))\n",
        "    y = np.append(y,f)"
      ],
      "metadata": {
        "id": "Kz-fftbC9mFr"
      },
      "execution_count": null,
      "outputs": []
    },
    {
      "cell_type": "code",
      "source": [
        "def GetNewtonRaphson(f,df,xn,itmax = 1000, precision=1e-7): \n",
        "    error = 1\n",
        "    it = 0\n",
        "    while error > precision and it <= itmax:\n",
        "        try:    \n",
        "            xn1 = xn - f(xn)/df(xn)\n",
        "            error = np.abs(f(xn)/df(xn))  \n",
        "        except ZeroDivisionError:   \n",
        "            print('Division por cero')    \n",
        "        it += 1\n",
        "        xn = xn1\n",
        "    return xn\n",
        "    \n",
        "def GetAllRoots(x_,func,tolerancia=5):\n",
        "\n",
        "    function = sym.lambdify([x],func)\n",
        "    dfunc = sym.diff(func,x,1)\n",
        "    derivative = sym.lambdify([x],dfunc)\n",
        "\n",
        "    Roots = np.array([])\n",
        "    for i in x_:\n",
        "      root = GetNewtonRaphson(function,derivative,i)\n",
        "      if root != False and np.isfinite(root) == True:\n",
        "          croot = np.round(root, tolerancia)\n",
        "          if croot not in Roots:\n",
        "              Roots = np.append(Roots,croot)\n",
        "                \n",
        "    Roots.sort()\n",
        "        \n",
        "    return Roots\n",
        "\n",
        "x_ = np.linspace(0,100,2000)\n",
        "\n",
        "\n",
        "for i in range(len(y)):\n",
        "  Roots = GetAllRoots(x_, y[i])\n",
        "  print(\"Polynomial {0}: {1}, #Roots: {2}\".format(i+1, Roots, len(Roots)))\n",
        "\n",
        "\n",
        "warnings.filterwarnings(\"ignore\")\n",
        "\n",
        "#El numero de raices de un polinomio de laguerre es igual a su grado polinomial "
      ],
      "metadata": {
        "id": "_9NZiXLcFfQw",
        "colab": {
          "base_uri": "https://localhost:8080/"
        },
        "outputId": "8860c1b7-3fce-4506-ecd5-b0afa151a8d1"
      },
      "execution_count": null,
      "outputs": [
        {
          "output_type": "stream",
          "name": "stdout",
          "text": [
            "Polynomial 1: [1.], #Roots: 1\n",
            "Polynomial 2: [0.58579 3.41421], #Roots: 2\n",
            "Polynomial 3: [0.41577 2.29428 6.28995], #Roots: 3\n",
            "Polynomial 4: [0.32255 1.74576 4.53662 9.39507], #Roots: 4\n",
            "Polynomial 5: [ 0.26356  1.4134   3.59643  7.08581 12.6408 ], #Roots: 5\n",
            "Polynomial 6: [ 0.22285  1.18893  2.99274  5.77514  9.83747 15.98287], #Roots: 6\n",
            "Polynomial 7: [ 0.19304  1.02666  2.56788  4.90035  8.18215 12.73418 19.39573], #Roots: 7\n",
            "Polynomial 8: [ 0.17028  0.9037   2.25109  4.2667   7.04591 10.75852 15.74068 22.86313], #Roots: 8\n",
            "Polynomial 9: [ 0.15232  0.80722  2.00514  3.78347  6.20496  9.37299 13.46624 18.8336\n",
            " 26.37407], #Roots: 9\n",
            "Polynomial 10: [ 0.13779  0.72945  1.80834  3.40143  5.5525   8.33015 11.84379 16.27926\n",
            " 21.99659 29.9207 ], #Roots: 10\n",
            "Polynomial 11: [ 0.1258   0.66542  1.64715  3.09114  5.02928  7.50989 10.60595 14.43161\n",
            " 19.17886 25.21771 33.49719], #Roots: 11\n",
            "Polynomial 12: [ 0.11572  0.61176  1.51261  2.83375  4.59923  6.84453  9.62132 13.00605\n",
            " 17.11686 22.15109 28.48797 37.09912], #Roots: 12\n",
            "Polynomial 13: [ 0.10714  0.56613  1.39856  2.6166   4.23885  6.29226  8.815   11.8614\n",
            " 15.51076 19.88464 25.18526 31.80039 40.72301], #Roots: 13\n",
            "Polynomial 14: [ 0.09975  0.52686  1.30063  2.4308   3.9321   5.82554  8.14024 10.9165\n",
            " 14.21081 18.10489 22.72338 28.27298 35.14944 44.36608], #Roots: 14\n",
            "Polynomial 15: [ 0.09331  0.49269  1.2156   2.26995  3.66762  5.42534  7.56592 10.12023\n",
            " 13.13028 16.65441 20.77648 25.62389 31.40752 38.53068 48.02609], #Roots: 15\n",
            "Polynomial 16: [ 0.08765  0.4627   1.14106  2.12928  3.43709  5.07802  7.07034  9.43831\n",
            " 12.21422 15.44153 19.18016 23.51591 28.57873 34.5834  41.94045 51.70116], #Roots: 16\n",
            "Polynomial 17: [ 0.08264  0.43615  1.07518  2.00519  3.23426  4.77351  6.63783  8.84669\n",
            " 11.42553 14.40782 17.83828 21.77827 26.31532 31.58177 37.79609 45.37572\n",
            " 55.38975], #Roots: 17\n",
            "Polynomial 18: [ 0.07817  0.41249  1.01652  1.89489  3.05435  4.50421  6.25673  8.32783\n",
            " 10.73799 13.51366 16.68931 20.31077 24.44068 29.16821 34.62793 41.04182\n",
            " 48.83392 59.09055], #Roots: 18\n",
            "Polynomial 19: [ 0.07416  0.39127  0.96396  1.79618  2.89365  4.26422  5.91814  7.86862\n",
            " 10.13242 12.73088 15.69128 19.04899 22.85085 27.16067 32.06912 37.71291\n",
            " 44.31736 52.3129  62.80242], #Roots: 19\n",
            "Polynomial 20: [ 0.07054  0.37213  0.91658  1.70731  2.7492   4.04893  5.61517  7.45902\n",
            "  9.59439 12.0388  14.81429 17.9489  21.47879 25.4517  29.93255 35.01343\n",
            " 40.83306 47.61999 55.8108  66.52442], #Roots: 20\n"
          ]
        }
      ]
    },
    {
      "cell_type": "code",
      "source": [
        "for i in range(len(y)):\n",
        "  roots =sym.nroots(y[i])\n",
        "  print(\"Polynomial {0} Roots: {1}, #Roots: {2} \\n\".format(i+1 ,roots,len(roots)))"
      ],
      "metadata": {
        "id": "oCI0RRMkJOaB",
        "colab": {
          "base_uri": "https://localhost:8080/"
        },
        "outputId": "bc5bf689-589f-4f37-cbde-4dde12314b12"
      },
      "execution_count": null,
      "outputs": [
        {
          "output_type": "stream",
          "name": "stdout",
          "text": [
            "Polynomial 1 Roots: [1.00000000000000], #Roots: 1 \n",
            "\n",
            "Polynomial 2 Roots: [0.585786437626905, 3.41421356237309], #Roots: 2 \n",
            "\n",
            "Polynomial 3 Roots: [0.415774556783479, 2.29428036027904, 6.28994508293748], #Roots: 3 \n",
            "\n",
            "Polynomial 4 Roots: [0.322547689619392, 1.74576110115835, 4.53662029692113, 9.39507091230113], #Roots: 4 \n",
            "\n",
            "Polynomial 5 Roots: [0.263560319718141, 1.41340305910652, 3.59642577104072, 7.08581000585884, 12.6408008442758], #Roots: 5 \n",
            "\n",
            "Polynomial 6 Roots: [0.222846604179261, 1.18893210167262, 2.99273632605931, 5.77514356910451, 9.83746741838259, 15.9828739806017], #Roots: 6 \n",
            "\n",
            "Polynomial 7 Roots: [0.193043676560362, 1.02666489533919, 2.56787674495075, 4.90035308452648, 8.18215344456286, 12.7341802917978, 19.3957278622625], #Roots: 7 \n",
            "\n",
            "Polynomial 8 Roots: [0.170279632305101, 0.903701776799380, 2.25108662986613, 4.26670017028766, 7.04590540239347, 10.7585160101810, 15.7406786412780, 22.8631317368893], #Roots: 8 \n",
            "\n",
            "Polynomial 9 Roots: [0.152322227731808, 0.807220022742256, 2.00513515561935, 3.78347397333123, 6.20495677787661, 9.37298525168758, 13.4662369110921, 18.8335977889917, 26.3740718909274], #Roots: 9 \n",
            "\n",
            "Polynomial 10 Roots: [0.137793470540492, 0.729454549503170, 1.80834290174032, 3.40143369785490, 5.55249614006380, 8.33015274676450, 11.8437858379001, 16.2792578313781, 21.9965858119808, 29.9206970122739], #Roots: 10 \n",
            "\n",
            "Polynomial 11 Roots: [0.125796442187968, 0.665418255839228, 1.64715054587217, 3.09113814303526, 5.02928440157983, 7.50988786380662, 10.6059509995470, 14.4316137580642, 19.1788574032147, 25.2177093396776, 33.4971928471755], #Roots: 11 \n",
            "\n",
            "Polynomial 12 Roots: [0.115722117358021, 0.611757484515131, 1.51261026977642, 2.83375133774351, 4.59922763941835, 6.84452545311518, 9.62131684245687, 13.0060549933063, 17.1168551874623, 22.1510903793970, 28.4879672509840, 37.0991210444669], #Roots: 12 \n",
            "\n",
            "Polynomial 13 Roots: [0.107142388472252, 0.566131899040402, 1.39856433645102, 2.61659710840641, 4.23884592901703, 6.29225627114007, 8.81500194118698, 11.8614035888112, 15.5107620377038, 19.8846356638802, 25.1852638646778, 31.8003863019473, 40.7230086692656], #Roots: 13 \n",
            "\n",
            "Polynomial 14 Roots: [0.0997475070325976, 0.526857648851903, 1.30062912125150, 2.43080107873084, 3.93210282229322, 5.82553621830171, 8.14024014156515, 10.9164995073660, 14.2108050111613, 18.1048922202181, 22.7233816282696, 28.2729817232482, 35.1494436605924, 44.3660817111174], #Roots: 14 \n",
            "\n",
            "Polynomial 15 Roots: [0.0933078120172818, 0.492691740301884, 1.21559541207095, 2.26994952620374, 3.66762272175144, 5.42533662741355, 7.56591622661307, 10.1202285680191, 13.1302824821757, 16.6544077083300, 20.7764788994488, 25.6238942267288, 31.4075191697539, 38.5306833064860, 48.0260855726858], #Roots: 15 \n",
            "\n",
            "Polynomial 16 Roots: [0.0876494104789278, 0.462696328915081, 1.14105777483123, 2.12928364509838, 3.43708663389321, 5.07801861454977, 7.07033853504823, 9.43831433639194, 12.2142233688662, 15.4415273687816, 19.1801568567531, 23.5159056939919, 28.5787297428821, 34.5833987022866, 41.9404526476883, 51.7011603395433], #Roots: 16 \n",
            "\n",
            "Polynomial 17 Roots: [0.0826382147089477, 0.436150323558710, 1.07517657751143, 2.00519353164923, 3.23425612404744, 4.77351351370020, 6.63782920536495, 8.84668551116980, 11.4255293193734, 14.4078230374813, 17.8382847307011, 21.7782682577223, 26.3153178112488, 31.5817716804567, 37.7960938374771, 45.3757165339890, 55.3897517898396], #Roots: 17 \n",
            "\n",
            "Polynomial 18 Roots: [0.0781691666697055, 0.412490085259129, 1.01652017962354, 1.89488850996976, 3.05435311320266, 4.50420553888989, 6.25672507394911, 8.32782515660563, 10.7379900477576, 13.5136562075551, 16.6893062819301, 20.3107676262677, 24.4406813592837, 29.1682086625796, 34.6279270656602, 41.0418167728088, 48.8339227160865, 59.0905464359013], #Roots: 18 \n",
            "\n",
            "Polynomial 19 Roots: [0.0741587837572051, 0.391268613319995, 0.963957343997958, 1.79617558206833, 2.89365138187378, 4.26421553962777, 5.91814156164405, 7.86861891533473, 10.1324237168153, 12.7308814638424, 15.6912783398359, 19.0489932098235, 22.8508497608295, 27.1606693274114, 32.0691222518622, 37.7129058012196, 44.3173627958315, 52.3129024574044, 62.8024231535004], #Roots: 19 \n",
            "\n",
            "Polynomial 20 Roots: [0.0705398896919888, 0.372126818001611, 0.916582102483274, 1.70730653102834, 2.74919925530943, 4.04892531385089, 5.61517497086162, 7.45901745367106, 9.59439286958110, 12.0388025469643, 14.8142934426307, 17.9488955205194, 21.4787882402850, 25.4517027931869, 29.9325546317006, 35.0134342404790, 40.8330570567286, 47.6199940473465, 55.8107957500639, 66.5244165256157], #Roots: 20 \n",
            "\n"
          ]
        }
      ]
    },
    {
      "cell_type": "markdown",
      "source": [
        "# Interpolación de Lagrange"
      ],
      "metadata": {
        "id": "cI2a2bMQWZWn"
      }
    },
    {
      "cell_type": "markdown",
      "source": [
        "En el lanzamiento de una bala, una cámara fotográfica registra las siguientes posiciones en metros respecto al arma homicida: https://raw.githubusercontent.com/asegura4488/Database/main/MetodosComputacionalesReforma/Parabolico.csv\n",
        "\n",
        "Estime el vector velocidad inicial, que estaría definido por la magnitud y dirección. Rpta: $V_0 = 10 m/s$ y $θ = 20◦$.\n",
        "\n",
        "Hint: Encuentre el termino lineal y cuadrático de la interpolación y compare con la ecuación de trayectoria de la bala\n",
        "\n",
        "(Tome $g = −9.8 m/s^2 j$):\n",
        "\n",
        "![image.png](data:image/png;base64,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)"
      ],
      "metadata": {
        "id": "4DE4bsOEbndH"
      }
    },
    {
      "cell_type": "code",
      "source": [
        "url = \"https://raw.githubusercontent.com/asegura4488/Database/main/MetodosComputacionalesReforma/Parabolico.csv\"\n",
        "DataFrame = pd.read_csv(url,engine='python')\n",
        "X = np.array(DataFrame[\"X\"])\n",
        "Y = np.array(DataFrame[\"Y\"])\n",
        "\n",
        "def Lagrange(x,xi,j):\n",
        "    \n",
        "    prod = 1.0\n",
        "    n = len(xi)\n",
        "    \n",
        "    for i in range(n):\n",
        "        if i != j:\n",
        "            prod *= (x - xi[i])/(xi[j]-xi[i])\n",
        "            \n",
        "    return prod\n",
        "def Interpolate(x,xi,yi):\n",
        "    \n",
        "    Sum = 0.\n",
        "    n = len(xi)\n",
        "    \n",
        "    for j in range(n):\n",
        "        Sum += yi[j]*Lagrange(x,xi,j)\n",
        "        \n",
        "    return Sum\n",
        "\n",
        "x_ = np.linspace(X[0],X[-1],100)\n",
        "plt.plot(x_,Interpolate(x_,X,Y))\n",
        "plt.scatter(X,Y)"
      ],
      "metadata": {
        "id": "w2EVusYacehk",
        "colab": {
          "base_uri": "https://localhost:8080/",
          "height": 283
        },
        "outputId": "f6da7969-26ac-4733-cf50-bc71ca6b9da4"
      },
      "execution_count": null,
      "outputs": [
        {
          "output_type": "execute_result",
          "data": {
            "text/plain": [
              "<matplotlib.collections.PathCollection at 0x7fc22e8c0bb0>"
            ]
          },
          "metadata": {},
          "execution_count": 12
        },
        {
          "output_type": "display_data",
          "data": {
            "text/plain": [
              "<Figure size 432x288 with 1 Axes>"
            ],
            "image/png": "[encoded data removed]"
          },
          "metadata": {
            "needs_background": "light"
          }
        }
      ]
    },
    {
      "cell_type": "code",
      "source": [
        "function = Interpolate(x,X,Y)\n",
        "function = sym.simplify(function)\n",
        "function"
      ],
      "metadata": {
        "id": "-YqomPAUeCmH",
        "colab": {
          "base_uri": "https://localhost:8080/",
          "height": 39
        },
        "outputId": "648d2b5c-df67-4dbb-dded-36b7003cd0d5"
      },
      "execution_count": null,
      "outputs": [
        {
          "output_type": "execute_result",
          "data": {
            "text/plain": [
              "x*(0.363970234266202 - 0.0554912422401579*x)"
            ],
            "text/latex": "$\\displaystyle x \\left(0.363970234266202 - 0.0554912422401579 x\\right)$"
          },
          "metadata": {},
          "execution_count": 13
        }
      ]
    },
    {
      "cell_type": "code",
      "source": [
        "# Comparando con la fórmula y la interpolación, sería:\n",
        "# 0.363970234266202 = tan(alpha)\n",
        "\n",
        "alpha = np.arctan(0.363970234266202)\n",
        "grades_alpha = alpha*(180/np.pi)\n",
        "grades_alpha"
      ],
      "metadata": {
        "id": "pL6cfMgDez6G",
        "colab": {
          "base_uri": "https://localhost:8080/"
        },
        "outputId": "acfc8b9a-5502-4783-a653-279b614938ec"
      },
      "execution_count": null,
      "outputs": [
        {
          "output_type": "execute_result",
          "data": {
            "text/plain": [
              "19.999999999999982"
            ]
          },
          "metadata": {},
          "execution_count": 14
        }
      ]
    },
    {
      "cell_type": "code",
      "source": [
        "# Comparando con la fórmula y la interpolación, sería:\n",
        "# 0.0554912422401579 = (9.8)/(2*v0^2*cos(alpha)^2)\n",
        "# (2*v0^2*cos(alpha)^2)  = 9.8/0.0554912422401579\n",
        "# v0^2 = 9.8/(2*0.0554912422401579*cos(alpha)^2)\n",
        "\n",
        "v0_cuadrado = 9.8/(2*0.0554912422401579*np.cos(alpha)**2)\n",
        "v0 = np.sqrt(v0_cuadrado)\n",
        "v0"
      ],
      "metadata": {
        "id": "TOjO5-B0gDeK",
        "colab": {
          "base_uri": "https://localhost:8080/"
        },
        "outputId": "f54b7307-d9f6-4603-fc60-f0f3daa3af02"
      },
      "execution_count": null,
      "outputs": [
        {
          "output_type": "execute_result",
          "data": {
            "text/plain": [
              "10.0"
            ]
          },
          "metadata": {},
          "execution_count": 15
        }
      ]
    },
    {
      "cell_type": "markdown",
      "source": [
        "Interpolación Newton-Gregory: Para el siguiente conjunto de puntos:\n",
        "https://raw.githubusercontent.com/asegura4488/Database/main/MetodosComputacionalesReforma/InterpolacionNewtonNoequi.csv\n",
        "Encuentre el polinomio interpolante de menor grado usando el método Newton-Gregory."
      ],
      "metadata": {
        "id": "KKPILW0vhGkz"
      }
    },
    {
      "cell_type": "code",
      "source": [
        "url = \"https://raw.githubusercontent.com/asegura4488/Database/main/MetodosComputacionalesReforma/InterpolacionNewtonNoequi.csv\"\n",
        "DataFrame = pd.read_csv(url,engine='python')\n",
        "X = np.array(DataFrame[\"X\"])\n",
        "Y = np.array(DataFrame[\"Y\"])"
      ],
      "metadata": {
        "id": "E4-OzVIYhosd"
      },
      "execution_count": null,
      "outputs": []
    },
    {
      "cell_type": "code",
      "source": [
        "def NewtonInterpolation(X,Y,x):\n",
        "    \n",
        "    sum_ = Y[0]\n",
        "    \n",
        "    Diff = np.zeros((len(X),len(X)))\n",
        "    h = X[1] - X[0]\n",
        "    \n",
        "    Diff[:,0] = Y\n",
        "    \n",
        "    poly = 1.0\n",
        "    \n",
        "    for i in range(1,len(X)):\n",
        "        \n",
        "        poly *= (x - X[i-1])\n",
        "        \n",
        "        for j in range(i,len(X)): \n",
        "            \n",
        "            Diff[j,i] = (Diff[j,i-1] - Diff[j-1,i-1])\n",
        "    \n",
        "        sum_ += poly*Diff[i,i]/(np.math.factorial(i)*h**(i))\n",
        "\n",
        "    return sum_\n",
        "\n",
        "xt = np.linspace(X[0],4,100)\n",
        "\n",
        "yt = []\n",
        "\n",
        "for i in range(len(xt)):\n",
        "    yt.append(NewtonInterpolation(X,Y,xt[i]))\n",
        "plt.scatter(X,Y,color='r',marker='o')\n",
        "plt.plot(xt,yt)\n",
        "\n",
        "# Al utilizar esa formula de diferencias divididas con el factorial y h,\n",
        "# el polinomio no interpola correctamente. Esto pasa porque no tenemos \n",
        "# una discretización equisdistante en las coordendas x.\n",
        "\n",
        "poly = NewtonInterpolation(X, Y, x)\n",
        "sym.simplify(poly)"
      ],
      "metadata": {
        "id": "hSTYF58Uin2b",
        "colab": {
          "base_uri": "https://localhost:8080/",
          "height": 287
        },
        "outputId": "f5f7019d-4c3f-4509-dfb8-168167e8b079"
      },
      "execution_count": null,
      "outputs": [
        {
          "output_type": "execute_result",
          "data": {
            "text/plain": [
              "-0.00219478737997257*x**5 + 0.165157750342936*x**4 - 1.91458984910837*x**3 + 6.99914403292181*x**2 - 3.40385185185185*x - 18.0"
            ],
            "text/latex": "$\\displaystyle - 0.00219478737997257 x^{5} + 0.165157750342936 x^{4} - 1.91458984910837 x^{3} + 6.99914403292181 x^{2} - 3.40385185185185 x - 18.0$"
          },
          "metadata": {},
          "execution_count": 17
        },
        {
          "output_type": "display_data",
          "data": {
            "text/plain": [
              "<Figure size 432x288 with 1 Axes>"
            ],
            "image/png": "[encoded data removed]"
          },
          "metadata": {
            "needs_background": "light"
          }
        }
      ]
    },
    {
      "cell_type": "code",
      "source": [
        "import numpy as np\n",
        "import matplotlib.pyplot as plt\n",
        "\n",
        "def NewtonInterpolation(X, Y, x):\n",
        "    \n",
        "    sum_ = Y[0]\n",
        "    \n",
        "    Diff = np.zeros((len(X),len(X)))\n",
        "    \n",
        "    Diff[:,0] = Y\n",
        "    \n",
        "    poly = 1.0\n",
        "    \n",
        "    for i in range(1, len(X)):\n",
        "        \n",
        "        poly *= (x - X[i-1])\n",
        "        \n",
        "        for j in range(i, len(X)):\n",
        "            \n",
        "            Diff[j,i] = (Diff[j,i-1] - Diff[j-1,i-1]) / (X[j]-X[j-i])\n",
        "\n",
        "        sum_ += poly * Diff[i,i]\n",
        "    \n",
        "    return sum_\n",
        "\n",
        "\n",
        "xt = np.linspace(X[0], X[-1], 100)\n",
        "\n",
        "yt = NewtonInterpolation(X, Y, xt)\n",
        "plt.scatter(X, Y, color = \"red\",label='Data')\n",
        "plt.plot(xt, yt, label='Interpolation')\n",
        "plt.legend()\n",
        "\n",
        "plt.show()\n",
        "\n",
        "# En este caso, usamos otra formula para la interpolación de Newton.\n",
        "# En vez de usar h y el factorial, se usa la diferencia de coordenadas\n",
        "# en el eje x para distintas posiciones en la discretización al no ser\n",
        "# equisdistante.\n",
        "\n",
        "poly = NewtonInterpolation(X, Y, x)\n",
        "sym.simplify(poly)"
      ],
      "metadata": {
        "id": "u23jno5hy7ne",
        "colab": {
          "base_uri": "https://localhost:8080/",
          "height": 287
        },
        "outputId": "900275d8-6de1-44e0-9ae7-bd695e8c626f"
      },
      "execution_count": null,
      "outputs": [
        {
          "output_type": "display_data",
          "data": {
            "text/plain": [
              "<Figure size 432x288 with 1 Axes>"
            ],
            "image/png": "[encoded data removed]"
          },
          "metadata": {
            "needs_background": "light"
          }
        },
        {
          "output_type": "execute_result",
          "data": {
            "text/plain": [
              "-0.34145435774264*x**5 + 5.84804869821673*x**4 - 35.6998197753506*x**3 + 89.657566164176*x**2 - 68.8369730888011*x - 18.0"
            ],
            "text/latex": "$\\displaystyle - 0.34145435774264 x^{5} + 5.84804869821673 x^{4} - 35.6998197753506 x^{3} + 89.657566164176 x^{2} - 68.8369730888011 x - 18.0$"
          },
          "metadata": {},
          "execution_count": 18
        }
      ]
    },
    {
      "cell_type": "markdown",
      "source": [
        "# Integración"
      ],
      "metadata": {
        "id": "RmuoplHk2KBm"
      }
    },
    {
      "cell_type": "markdown",
      "source": [
        "7. Una forma de generalizar el método de integración del trapecio para una integral doble de una función f(x, y) consiste en dividir el plano xy en un grilla de cuadrados iguales y calcular el promedio del valor de la función de cada uno de los 4 vértices de cada cuadrado\n",
        "pequeño de la grilla. Calcule numéricamente el volumen de una semiesfera de radio R = 1."
      ],
      "metadata": {
        "id": "2cMAAP53GtoJ"
      }
    },
    {
      "cell_type": "code",
      "source": [
        "R = 1\n",
        "n = 1000\n",
        "x = np.linspace(-R,R,n+1)\n",
        "y = np.linspace(-R,R,n+1)\n",
        "A = (x[1]-x[0])**2 \n",
        "\n",
        "X, Y = np.meshgrid(x,y)\n",
        "\n",
        "\n",
        "def f(x,y):\n",
        "    z = -x**2 - y**2 + R**2\n",
        "    if z <= 0:\n",
        "        return 0\n",
        "    else:\n",
        "        return np.sqrt(z)\n",
        "\n",
        "volumen = 0\n",
        "\n",
        "for i in range(len(x)):\n",
        "    for j in range(len(y)):\n",
        "        volumen += A*f(X[i,j],Y[i,j])\n",
        "\n",
        "volumen"
      ],
      "metadata": {
        "colab": {
          "base_uri": "https://localhost:8080/"
        },
        "id": "Ys84fGuH2Pao",
        "outputId": "edf9e319-48ef-4e22-8b3a-13fce5101ceb"
      },
      "execution_count": null,
      "outputs": [
        {
          "output_type": "execute_result",
          "data": {
            "text/plain": [
              "2.0943883788632442"
            ]
          },
          "metadata": {},
          "execution_count": 19
        }
      ]
    },
    {
      "cell_type": "markdown",
      "source": [
        "14. Escribir el polinomio $p(x) = 3 + 5x + x^2$ en la base de Legendre."
      ],
      "metadata": {
        "id": "jzgEzbP4HMlG"
      }
    },
    {
      "cell_type": "code",
      "source": [
        "from sympy.solvers import solve\n",
        "\n",
        "x = sym.Symbol('x')\n",
        "   \n",
        "p0 = 1\n",
        "p1 = x\n",
        "p2 = 0.5*((3*x**2)-1)    \n",
        "\n",
        "a,b,c = sym.symbols(\"a,b,c\")\n",
        "\n",
        "\n",
        "r = solve(a*p0 + b*p1 + c*p2 - x**2-5*x-3 , (a,b,c))\n",
        "\n",
        "p0,p1,p2 = sym.symbols(\"p0,p1,p2\")\n",
        "\n",
        "r = p0*r[a]+p1*r[b]+p2*r[c]\n",
        "\n",
        "r"
      ],
      "metadata": {
        "id": "GM3VTaQKHQYH",
        "outputId": "1bdd7caf-6af9-41c3-876a-2a9532e11e7f",
        "colab": {
          "base_uri": "https://localhost:8080/",
          "height": 39
        }
      },
      "execution_count": null,
      "outputs": [
        {
          "output_type": "execute_result",
          "data": {
            "text/plain": [
              "3.33333333333333*p0 + 5.0*p1 + 0.666666666666667*p2"
            ],
            "text/latex": "$\\displaystyle 3.33333333333333 p_{0} + 5.0 p_{1} + 0.666666666666667 p_{2}$"
          },
          "metadata": {},
          "execution_count": 37
        }
      ]
    },
    {
      "cell_type": "markdown",
      "source": [
        "17. En el problema de la radiación del cuerpo negro aparece cierta integral mostrada en las notas de la clase.\n",
        "\n",
        "a) Calcular numéricamente esta integral usando la cuadratura de Gauss-Laguerre para n = 3 puntos de evaluación."
      ],
      "metadata": {
        "id": "NnhnG9vfGWQN"
      }
    },
    {
      "cell_type": "code",
      "source": [
        "def Function(x):\n",
        "  return x**3 / (np.exp(x)-1)\n",
        "\n",
        "def GaussLaguerre(n):\n",
        "  Laguerre = LaguerrePolynomials(x,n)\n",
        "  Laguerre1 = LaguerrePolynomials(x,n+1)\n",
        "\n",
        "  X = GetAllRoots(x_, Laguerre)\n",
        "\n",
        "  W = np.array([])\n",
        "\n",
        "  for i in X:\n",
        "    wk = i/(n+1)**2\n",
        "    wk /= Laguerre1.subs(x,i)**2\n",
        "    W = np.append(W,wk)\n",
        "\n",
        "  integral = 0\n",
        "  for j in range(n):\n",
        "      integral += W[j] * Function(X[j]) * np.exp(X[j])\n",
        "\n",
        "  return integral\n",
        "\n",
        "Integrate = GaussLaguerre(3)\n",
        "Integrate"
      ],
      "metadata": {
        "colab": {
          "base_uri": "https://localhost:8080/",
          "height": 37
        },
        "id": "AuZbANAEsPZu",
        "outputId": "5b7ca0b1-89de-4a67-f54b-682f93837b45"
      },
      "execution_count": null,
      "outputs": [
        {
          "output_type": "execute_result",
          "data": {
            "text/plain": [
              "6.48113246452255"
            ],
            "text/latex": "$\\displaystyle 6.48113246452255$"
          },
          "metadata": {},
          "execution_count": 48
        }
      ]
    },
    {
      "cell_type": "markdown",
      "source": [
        "b) Para esta estimación, grafique el error relativo como función de los puntos de evaluación, con n = [2, 3, ..., 10]."
      ],
      "metadata": {
        "id": "fuex7YOeJYIM"
      }
    },
    {
      "cell_type": "code",
      "source": [
        "N = np.arange(2,11,1)\n",
        "\n",
        "E = np.array([])\n",
        "for j in N:\n",
        "  E = np.append(E,GaussLaguerre(j))\n",
        "\n",
        "I = np.pi**4/15"
      ],
      "metadata": {
        "id": "UUB_--_hELw7"
      },
      "execution_count": null,
      "outputs": []
    },
    {
      "cell_type": "code",
      "source": [
        "plt.scatter(N, E/I)"
      ],
      "metadata": {
        "colab": {
          "base_uri": "https://localhost:8080/",
          "height": 283
        },
        "id": "s73jSKBgEQte",
        "outputId": "52767d05-324e-44b2-979a-9d065980ab08"
      },
      "execution_count": null,
      "outputs": [
        {
          "output_type": "execute_result",
          "data": {
            "text/plain": [
              "<matplotlib.collections.PathCollection at 0x7fc22cb0d400>"
            ]
          },
          "metadata": {},
          "execution_count": 50
        },
        {
          "output_type": "display_data",
          "data": {
            "text/plain": [
              "<Figure size 432x288 with 1 Axes>"
            ],
            "image/png": "[encoded data removed]"
          },
          "metadata": {
            "needs_background": "light"
          }
        }
      ]
    },
    {
      "cell_type": "markdown",
      "source": [
        "18. La cuadratura de Gaus-Hermite está definida para integrales de la forma mostrada en las notas de clase con el intervalo de -infinito a infinito.\n",
        "\n",
        "a) Encontrar los primeros 20 ceros de los polinomios y los correspondientes pesos de la\n",
        "cuadratura."
      ],
      "metadata": {
        "id": "RW8Mb4B5SBB3"
      }
    },
    {
      "cell_type": "code",
      "source": [
        "def HermitePolynomials(x,n):\n",
        "\n",
        "    function = sym.exp(-x**2)\n",
        "    derivative = sym.diff(function,x,n)\n",
        "\n",
        "    poly = (-1)**n*sym.exp(x**2)\n",
        "    polynomial = poly*derivative\n",
        "\n",
        "    return polynomial\n",
        "\n",
        "x = sym.Symbol('x')"
      ],
      "metadata": {
        "id": "9OkRya_5GllV"
      },
      "execution_count": null,
      "outputs": []
    },
    {
      "cell_type": "code",
      "source": [
        "def GetNewtonRaphson(f,df,xn,itmax = 100, precision=1e-5): \n",
        "    error = 1\n",
        "    it = 0\n",
        "    while error > precision and it <= itmax:\n",
        "        try:    \n",
        "            xn1 = xn - f(xn)/df(xn)\n",
        "            error = np.abs(f(xn)/df(xn)) \n",
        "        except ZeroDivisionError:   \n",
        "            print('Division por cero')    \n",
        "        it += 1\n",
        "        xn = xn1\n",
        "    return xn\n",
        "    \n",
        "def GetAllRoots(x_,func,tolerancia=5):\n",
        "\n",
        "    function = sym.lambdify([x],func)\n",
        "    dfunc = sym.diff(func,x,1)\n",
        "    derivative = sym.lambdify([x],dfunc)\n",
        "\n",
        "    Roots = np.array([])\n",
        "    for i in x_:\n",
        "      root = GetNewtonRaphson(function,derivative,i)\n",
        "\n",
        "      if np.isfinite(root) == True:\n",
        "        croot = np.round(root, tolerancia)\n",
        "        if croot not in Roots:\n",
        "            Roots = np.append(Roots,croot)\n",
        "                \n",
        "    Roots.sort()\n",
        "        \n",
        "    return Roots\n",
        "\n",
        "x_ = np.linspace(-10,10,1000)"
      ],
      "metadata": {
        "id": "0joMAP4GHoAY"
      },
      "execution_count": null,
      "outputs": []
    },
    {
      "cell_type": "code",
      "source": [
        "\n",
        "TotalRoots = 0\n",
        "TotalWeights = 0\n",
        "\n",
        "for n in range(1,7):\n",
        "\n",
        "  Weights = np.array([])\n",
        "\n",
        "  X = GetAllRoots(x_,HermitePolynomials(x,n))\n",
        "  TotalRoots += len(X)\n",
        "\n",
        "  W = 2**(n-1) * np.math.factorial(n) * np.sqrt(np.pi)\n",
        "  W /= n**2\n",
        "  H = sym.lambdify([x],HermitePolynomials(x,n-1))\n",
        "  W /= H(X)**2\n",
        "\n",
        "  print(\"Polynomial {0} Roots and Weights: {1}, {2}\".format(n,X,W))\n",
        "\n",
        "print(\"\\n First {0} Roots\".format(TotalRoots))\n",
        "\n",
        "  "
      ],
      "metadata": {
        "colab": {
          "base_uri": "https://localhost:8080/"
        },
        "id": "jLhWwCMuH8pz",
        "outputId": "05a3d6e4-9855-43a5-8b46-6cae45680970"
      },
      "execution_count": null,
      "outputs": [
        {
          "output_type": "stream",
          "name": "stdout",
          "text": [
            "Polynomial 1 Roots and Weights: [0.], 1.7724538509055159\n",
            "Polynomial 2 Roots and Weights: [-0.70711  0.70711], [0.88621886 0.88621886]\n",
            "Polynomial 3 Roots and Weights: [-1.22474  0.       1.22474], [0.29541603 1.1816359  0.29541603]\n",
            "Polynomial 4 Roots and Weights: [-1.65068 -0.52465  0.52465  1.65068], [0.0813129  0.80491008 0.80491008 0.0813129 ]\n",
            "Polynomial 5 Roots and Weights: [-2.02018 -0.95857  0.       0.95857  2.02018], [0.0199537  0.39362304 0.94530872 0.39362304 0.0199537 ]\n",
            "Polynomial 6 Roots and Weights: [-2.3506  -1.33585 -0.43608  0.43608  1.33585  2.3506 ], [0.00453022 0.15706654 0.72462632 0.72462632 0.15706654 0.00453022]\n",
            "\n",
            " First 21 Roots\n"
          ]
        }
      ]
    },
    {
      "cell_type": "markdown",
      "source": [
        "b) Estime numéricamente el valor cuadrático medio de la posición de la partícula en el primer estado exitado (n = 1)."
      ],
      "metadata": {
        "id": "LW1l4Z4IJ7-5"
      }
    },
    {
      "cell_type": "code",
      "source": [
        "def Oscillator(x):\n",
        "  return (1/np.sqrt(2))*(1/np.pi)**(1/4)*np.exp(-x**2/2)*2*x\n",
        "\n",
        "def Function(x):\n",
        "  return Oscillator(x)**2*x**2\n",
        "\n",
        "def GaussHermite(X,W):\n",
        "  Integrate = 0\n",
        "  for i in range(len(X)):\n",
        "    Integrate+= W[i]*Function(X[i])*np.exp(X[i]**2)\n",
        "  return Integrate\n",
        "  \n",
        "GaussHermite(X,W)"
      ],
      "metadata": {
        "colab": {
          "base_uri": "https://localhost:8080/"
        },
        "id": "n6xCzqWVaoqA",
        "outputId": "a92c490c-824b-49dc-9244-e5c528a95503"
      },
      "execution_count": null,
      "outputs": [
        {
          "output_type": "execute_result",
          "data": {
            "text/plain": [
              "1.5000106359472738"
            ]
          },
          "metadata": {},
          "execution_count": 43
        }
      ]
    },
    {
      "cell_type": "markdown",
      "source": [
        "19.  Existe una temperatura a la cuál la banda prohibida tiende a cero $∆(T) → 0$, dicha temperatura es la temperatura crítica Tc donde el material se convierte en superconductor. Para estimar Tc de este\n",
        "material les propongo la siguiente estrategia:\n",
        "\n",
        "(a) Implemente la función a integrar en Python. Esta función debe tener la temperatura T y el tamaño de la banda prohibida $∆'(T)$ como parámetros.\n",
        "\n",
        "(b) Cargar los puntos y los pesos de la cuadratura de Gaus-Legendre a orden n = 50."
      ],
      "metadata": {
        "id": "Jsag1L9ykVLo"
      }
    },
    {
      "cell_type": "code",
      "source": [
        "dt = sym.Symbol(\"dt\")\n",
        "t = sym.Symbol(\"t\")\n",
        "def Function(x,t,dt):\n",
        "  return 0.5*(sym.tanh(sym.sqrt(x**2+dt**2)*300/(2*t)))/(sym.sqrt(x**2+dt**2))\n",
        "\n",
        "def gauss_legendre_integrate(f):\n",
        "  X, W = np.polynomial.legendre.leggauss(50)\n",
        "  Sum = 0\n",
        "  for i in range(len(X)):\n",
        "    Sum += (W[i]*f(X[i],t,dt))\n",
        "  return Sum\n",
        "\n",
        "I = gauss_legendre_integrate(Function)"
      ],
      "metadata": {
        "id": "6xWpDCtUkX5c"
      },
      "execution_count": null,
      "outputs": []
    },
    {
      "cell_type": "markdown",
      "source": [
        "(c) Debe variar la temperatura del material entre 1 a 20 en pasos de $dT = 1 × 1/10^4$ y hacer el cálculo de la integral.\n",
        "\n",
        "(d) En ese sentido deberá usar algún criterio de parada del algoritmo."
      ],
      "metadata": {
        "id": "H0FyAKNWK8fN"
      }
    },
    {
      "cell_type": "code",
      "source": [
        "st = 0.0001\n",
        "T = np.arange(1,20,st)\n",
        "Ic = sym.lambdify([t],I.subs(dt,0),\"numpy\")\n",
        "\n",
        "def CriticalTemp(T):\n",
        "  for i in T:\n",
        "    Integral = Ic(i)\n",
        "    c = (1/0.3)\n",
        "    if abs(Integral-c) < st:\n",
        "      return i\n",
        "\n",
        "Tc = round(CriticalTemp(T),4)\n",
        "\n",
        "print(\"La temperatura crítica es aproximadamente: Tc = {0}\".format(Tc))"
      ],
      "metadata": {
        "colab": {
          "base_uri": "https://localhost:8080/"
        },
        "id": "HyqcaLaCoy_W",
        "outputId": "5f6c6ed6-ba77-4243-f350-09b4c07758a1"
      },
      "execution_count": null,
      "outputs": [
        {
          "output_type": "stream",
          "name": "stdout",
          "text": [
            "La temperatura crítica es aproximadamente: Tc = 12.1336\n"
          ]
        }
      ]
    }
  ]
}