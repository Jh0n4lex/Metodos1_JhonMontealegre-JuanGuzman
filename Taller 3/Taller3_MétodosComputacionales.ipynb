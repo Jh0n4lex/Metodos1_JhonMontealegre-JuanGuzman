{
  "nbformat": 4,
  "nbformat_minor": 0,
  "metadata": {
    "colab": {
      "provenance": []
    },
    "kernelspec": {
      "name": "python3",
      "display_name": "Python 3"
    },
    "language_info": {
      "name": "python"
    }
  },
  "cells": [
    {
      "cell_type": "markdown",
      "source": [
        "#Taller 3 Métodos Computacionales"
      ],
      "metadata": {
        "id": "HNwatEwPT4FO"
      }
    },
    {
      "cell_type": "code",
      "execution_count": null,
      "metadata": {
        "id": "1H42B_w4Tz-V"
      },
      "outputs": [],
      "source": [
        "import sympy as sym\n",
        "import numpy as np\n",
        "import matplotlib.pyplot as plt\n",
        "import scipy as sp\n",
        "import warnings\n",
        "import pandas as pd\n",
        "from mpl_toolkits.mplot3d import axes3d"
      ]
    },
    {
      "cell_type": "markdown",
      "source": [
        "# Algebra Lineal"
      ],
      "metadata": {
        "id": "U8eFYJlZYVDT"
      }
    },
    {
      "cell_type": "markdown",
      "source": [
        "3. Implemente un algoritmo que realice la multiplicación de dos matrices. Use el algoritmo para calcular:\n"
      ],
      "metadata": {
        "id": "TFHTydRnUiLG"
      }
    },
    {
      "cell_type": "code",
      "source": [
        "A = np.array([[1,0,0],\n",
        "              [5,1,0],\n",
        "              [-2,3,1]])\n",
        "\n",
        "B = np.array([[4,-2,1],\n",
        "              [0,3,7],\n",
        "              [0,0,2]])"
      ],
      "metadata": {
        "id": "uDgi00ZWT9-p"
      },
      "execution_count": null,
      "outputs": []
    },
    {
      "cell_type": "code",
      "source": [
        "np.dot(A,B)"
      ],
      "metadata": {
        "colab": {
          "base_uri": "https://localhost:8080/"
        },
        "id": "YnrKqxUZUuoJ",
        "outputId": "c1ab7fdf-11b5-49aa-fe90-5f06463718e2"
      },
      "execution_count": null,
      "outputs": [
        {
          "output_type": "execute_result",
          "data": {
            "text/plain": [
              "array([[ 4, -2,  1],\n",
              "       [20, -7, 12],\n",
              "       [-8, 13, 21]])"
            ]
          },
          "metadata": {},
          "execution_count": 3
        }
      ]
    },
    {
      "cell_type": "code",
      "source": [
        "def GetProduct(matriz1, matriz2):\n",
        "\n",
        "    filas_matriz1 = len(matriz1)\n",
        "    columnas_matriz1 = len(matriz1[0])\n",
        "    filas_matriz2 = len(matriz2)\n",
        "    columnas_matriz2 = len(matriz2[0])\n",
        "    \n",
        "    if columnas_matriz1 != filas_matriz2:\n",
        "        return \"No se pueden multiplicar las matrices\"\n",
        "    \n",
        "    matriz_resultado = np.zeros((filas_matriz1,columnas_matriz2))\n",
        "    \n",
        "    for i in range(filas_matriz1):\n",
        "        for j in range(columnas_matriz2):\n",
        "            for k in range(filas_matriz2):\n",
        "                matriz_resultado[i][j] += matriz1[i][k] * matriz2[k][j]\n",
        "    \n",
        "    return matriz_resultado"
      ],
      "metadata": {
        "id": "S71SyZFoXOKd"
      },
      "execution_count": null,
      "outputs": []
    },
    {
      "cell_type": "code",
      "source": [
        "GetProduct(A,B)"
      ],
      "metadata": {
        "colab": {
          "base_uri": "https://localhost:8080/"
        },
        "id": "ZIV4YXLtYkya",
        "outputId": "3e6698c6-67a8-4b0b-f109-8e00f698a239"
      },
      "execution_count": null,
      "outputs": [
        {
          "output_type": "execute_result",
          "data": {
            "text/plain": [
              "array([[ 4., -2.,  1.],\n",
              "       [20., -7., 12.],\n",
              "       [-8., 13., 21.]])"
            ]
          },
          "metadata": {},
          "execution_count": 5
        }
      ]
    },
    {
      "cell_type": "markdown",
      "source": [
        "6. Successive over-relaxation (SOR) El método de sobre relajación sucesiva se basa en los métodos de Jacobi y Gauss-Seidel, pero incluye un parámetro de escala que reduce el error de aproximación en el paso (k)."
      ],
      "metadata": {
        "id": "UuUtVBcji8MR"
      }
    },
    {
      "cell_type": "markdown",
      "source": [
        "Implemente este método para solucionar el sistema de ecuaciones de clase (5.4)."
      ],
      "metadata": {
        "id": "zmtChu3g3BHx"
      }
    },
    {
      "cell_type": "code",
      "source": [
        "def GetSOR(A, b, omega, tol, max_iters):\n",
        "  n = len(b)\n",
        "  x = np.zeros(n)\n",
        "  iters = 0\n",
        "  error = tol + 1\n",
        "    \n",
        "  while error > tol and iters < max_iters:\n",
        "    x_old = np.copy(x)\n",
        "        \n",
        "    for i in range(n):\n",
        "        sigma = 0\n",
        "\n",
        "        for j in range(0,i):\n",
        "            sigma += A[i, j] * x[j]\n",
        "\n",
        "        for j in range(i+1, n):\n",
        "            sigma += A[i, j] * x_old[j]\n",
        "                \n",
        "        x[i] = (1 - omega) * x_old[i] + (omega / A[i, i]) * (b[i] - sigma)\n",
        "            \n",
        "    error = np.linalg.norm(x - x_old)\n",
        "    iters += 1\n",
        "\n",
        "  return x, iters, error\n",
        "\n",
        "A = np.array([[ 3.,  -1.,  -1.],\n",
        "              [ -1.,  3.,  1.], \n",
        "              [2.,  1.,  4.]])\n",
        "b = np.array([1.,3.,7.])\n",
        "tolerancia = 1e-8\n",
        "itmax = 10000\n",
        "omega = 1\n",
        "\n",
        "GetSOR(A, b, omega, tolerancia, itmax)"
      ],
      "metadata": {
        "colab": {
          "base_uri": "https://localhost:8080/"
        },
        "id": "e_VzW2sai8Y_",
        "outputId": "020619e4-86dc-44ed-8288-b3ee1039eda3"
      },
      "execution_count": null,
      "outputs": [
        {
          "output_type": "execute_result",
          "data": {
            "text/plain": [
              "(array([1., 1., 1.]), 15, 5.8817860304262355e-09)"
            ]
          },
          "metadata": {},
          "execution_count": 6
        }
      ]
    },
    {
      "cell_type": "markdown",
      "source": [
        "Encuentre el parámetro de relajación que minimiza el número de iteraciones para resolverlo."
      ],
      "metadata": {
        "id": "y0oXpzQC3H68"
      }
    },
    {
      "cell_type": "code",
      "source": [
        "def GetParameter(A, b, tol, max_iters):\n",
        "  comparar1 = np.inf\n",
        "  comparar2 = np.inf\n",
        "\n",
        "  w_ = np.linspace(1,2,100)\n",
        "\n",
        "  for w in w_:\n",
        "\n",
        "    solucion,count,error = GetSOR(A,b,w,tol,max_iters)\n",
        "\n",
        "    if count < comparar1 and error < comparar2:\n",
        "      comparar1 = count\n",
        "      comparar2 = error\n",
        "      parameter = w\n",
        "\n",
        "  return parameter\n",
        "warnings.filterwarnings('ignore')\n",
        "print(\"Valor de omega que minimiza los pasos: {0}\".format(GetParameter(A,b, tolerancia,itmax)))"
      ],
      "metadata": {
        "colab": {
          "base_uri": "https://localhost:8080/"
        },
        "id": "jywEHixtkaBG",
        "outputId": "a964560e-f0c9-4c44-8254-09c72138013b"
      },
      "execution_count": null,
      "outputs": [
        {
          "output_type": "stream",
          "name": "stdout",
          "text": [
            "Valor de omega que minimiza los pasos: 1.0\n"
          ]
        }
      ]
    },
    {
      "cell_type": "markdown",
      "source": [
        "Adicionalmente, algo curioso es lo siguiente:"
      ],
      "metadata": {
        "id": "Ta4rp8zD3uZ0"
      }
    },
    {
      "cell_type": "code",
      "source": [
        "w_ = np.linspace(1,2,100)\n",
        "for w in w_:\n",
        "  solucion , count, error = GetSOR(A,b, w, tolerancia,itmax)\n",
        "  print(w, solucion, count, error)"
      ],
      "metadata": {
        "colab": {
          "base_uri": "https://localhost:8080/"
        },
        "id": "jOVVlt4f4ivC",
        "outputId": "e50b9daf-5a42-4697-d701-7ef9522f0cae"
      },
      "execution_count": null,
      "outputs": [
        {
          "output_type": "stream",
          "name": "stdout",
          "text": [
            "1.0 [1. 1. 1.] 15 5.8817860304262355e-09\n",
            "1.0101010101010102 [1. 1. 1.] 16 4.434884705000033e-09\n",
            "1.02020202020202 [1. 1. 1.] 17 3.426228186643201e-09\n",
            "1.0303030303030303 [1. 1. 1.] 17 9.60593605659058e-09\n",
            "1.0404040404040404 [1. 1. 1.] 18 7.832342264032237e-09\n",
            "1.0505050505050506 [1. 1. 1.] 19 6.757369463060516e-09\n",
            "1.0606060606060606 [1. 1. 1.] 20 6.153040681651926e-09\n",
            "1.0707070707070707 [1. 1. 1.] 21 5.899241099643898e-09\n",
            "1.0808080808080809 [1. 1. 1.] 22 5.94226232021557e-09\n",
            "1.0909090909090908 [1. 1. 1.] 23 6.276089357402755e-09\n",
            "1.101010101010101 [1. 1. 1.] 24 6.937605078407132e-09\n",
            "1.1111111111111112 [1. 1. 1.] 25 8.012654366165205e-09\n",
            "1.121212121212121 [1. 1. 1.] 26 9.654017701430083e-09\n",
            "1.1313131313131313 [1. 1. 1.] 28 5.795195265522795e-09\n",
            "1.1414141414141414 [1. 1. 1.] 29 7.85693024010466e-09\n",
            "1.1515151515151516 [1. 1. 1.] 31 5.692411807108749e-09\n",
            "1.1616161616161615 [1. 1. 1.] 32 8.595305010825638e-09\n",
            "1.1717171717171717 [1. 1. 1.] 34 7.406891073693084e-09\n",
            "1.1818181818181819 [1. 1. 1.] 36 7.04269580037698e-09\n",
            "1.191919191919192 [1. 1. 1.] 38 7.360257900719871e-09\n",
            "1.202020202020202 [1. 1. 1.] 40 8.424689443592362e-09\n",
            "1.2121212121212122 [1. 1. 1.] 43 6.5858132019155015e-09\n",
            "1.2222222222222223 [1. 1. 1.] 45 9.220797545020083e-09\n",
            "1.2323232323232323 [1. 1. 1.] 48 9.27703293598646e-09\n",
            "1.2424242424242424 [1. 1. 1.] 52 7.2677208440369076e-09\n",
            "1.2525252525252526 [1. 1. 1.] 55 9.770052166774028e-09\n",
            "1.2626262626262625 [1. 1. 1.] 60 7.676450807139475e-09\n",
            "1.2727272727272727 [1. 1. 1.] 65 7.538114811552361e-09\n",
            "1.2828282828282829 [1. 1. 1.] 70 9.184842317560351e-09\n",
            "1.2929292929292928 [1. 1. 1.] 77 8.274094822458611e-09\n",
            "1.303030303030303 [1. 1. 1.] 85 7.969313154624517e-09\n",
            "1.3131313131313131 [1. 1. 1.] 94 8.725383649582396e-09\n",
            "1.3232323232323233 [1. 1. 1.] 105 9.570991331643292e-09\n",
            "1.3333333333333335 [1. 1. 1.] 120 8.600095259805056e-09\n",
            "1.3434343434343434 [1. 1. 1.] 138 9.37059877987023e-09\n",
            "1.3535353535353536 [1. 1. 1.] 163 9.180265092197568e-09\n",
            "1.3636363636363638 [1. 1. 1.] 198 9.223167840479787e-09\n",
            "1.3737373737373737 [1. 1. 1.] 251 9.31795166305117e-09\n",
            "1.3838383838383839 [1. 1. 1.] 340 9.915946805608914e-09\n",
            "1.393939393939394 [1. 1. 1.] 526 9.867782846179748e-09\n",
            "1.404040404040404 [1. 1. 1.] 1139 9.979418105733548e-09\n",
            "1.4141414141414141 [ 6.12858512e+10 -6.69734579e+09 -6.98000688e+10] 10000 186022126447.24298\n",
            "1.4242424242424243 [ 3.60863004e+93 -3.78482904e+92 -4.16374824e+93] 10000 1.0927868773008918e+94\n",
            "1.4343434343434343 [ 9.50379373e+174 -9.54993864e+173 -1.11069533e+175] 10000 inf\n",
            "1.4444444444444444 [ 1.25020752e+255 -1.20131500e+254 -1.47961391e+255] 10000 inf\n",
            "1.4545454545454546 [-inf  nan  nan] 9223 nan\n",
            "1.4646464646464648 [inf nan nan] 7484 nan\n",
            "1.474747474747475 [inf nan nan] 6312 nan\n",
            "1.4848484848484849 [-inf  nan  nan] 5469 nan\n",
            "1.494949494949495 [-inf  nan  nan] 4833 nan\n",
            "1.5050505050505052 [-inf  nan  nan] 4335 nan\n",
            "1.5151515151515151 [inf nan nan] 3936 nan\n",
            "1.5252525252525253 [-inf  nan  nan] 3609 nan\n",
            "1.5353535353535355 [-inf  nan  nan] 3335 nan\n",
            "1.5454545454545454 [-inf  nan  nan] 3103 nan\n",
            "1.5555555555555556 [-inf  nan  nan] 2903 nan\n",
            "1.5656565656565657 [inf nan nan] 2730 nan\n",
            "1.5757575757575757 [inf nan nan] 2578 nan\n",
            "1.5858585858585859 [inf nan nan] 2444 nan\n",
            "1.595959595959596 [inf nan nan] 2324 nan\n",
            "1.606060606060606 [-inf  nan  nan] 2217 nan\n",
            "1.6161616161616164 [-inf  nan  nan] 2121 nan\n",
            "1.6262626262626263 [-inf  nan  nan] 2033 nan\n",
            "1.6363636363636365 [-inf  nan  nan] 1953 nan\n",
            "1.6464646464646466 [-inf  nan  nan] 1881 nan\n",
            "1.6565656565656566 [inf nan nan] 1814 nan\n",
            "1.6666666666666667 [inf nan nan] 1752 nan\n",
            "1.676767676767677 [-inf  nan  nan] 1695 nan\n",
            "1.6868686868686869 [-inf  nan  nan] 1643 nan\n",
            "1.696969696969697 [-inf  nan  nan] 1593 nan\n",
            "1.7070707070707072 [inf nan nan] 1548 nan\n",
            "1.7171717171717171 [-inf  nan  nan] 1505 nan\n",
            "1.7272727272727273 [-inf  nan  nan] 1465 nan\n",
            "1.7373737373737375 [-inf  nan  nan] 1427 nan\n",
            "1.7474747474747474 [inf nan nan] 1392 nan\n",
            "1.7575757575757578 [-inf  nan  nan] 1359 nan\n",
            "1.7676767676767677 [-inf  nan  nan] 1327 nan\n",
            "1.7777777777777777 [-inf  nan  nan] 1297 nan\n",
            "1.787878787878788 [-inf  nan  nan] 1269 nan\n",
            "1.797979797979798 [-inf  nan  nan] 1243 nan\n",
            "1.8080808080808082 [-inf  nan  nan] 1217 nan\n",
            "1.8181818181818183 [-inf  nan  nan] 1193 nan\n",
            "1.8282828282828283 [inf nan nan] 1170 nan\n",
            "1.8383838383838385 [inf nan nan] 1148 nan\n",
            "1.8484848484848486 [-inf  nan  nan] 1127 nan\n",
            "1.8585858585858586 [-inf  nan  nan] 1107 nan\n",
            "1.8686868686868687 [inf nan nan] 1088 nan\n",
            "1.878787878787879 [inf nan nan] 1070 nan\n",
            "1.8888888888888888 [inf nan nan] 1052 nan\n",
            "1.8989898989898992 [-inf  nan  nan] 1035 nan\n",
            "1.9090909090909092 [-inf  nan  nan] 1019 nan\n",
            "1.9191919191919191 [-inf  nan  nan] 1003 nan\n",
            "1.9292929292929295 [inf nan nan] 988 nan\n",
            "1.9393939393939394 [inf nan nan] 974 nan\n",
            "1.9494949494949496 [inf nan nan] 960 nan\n",
            "1.9595959595959598 [-inf  nan  nan] 947 nan\n",
            "1.9696969696969697 [inf nan nan] 934 nan\n",
            "1.97979797979798 [-inf  nan  nan] 921 nan\n",
            "1.98989898989899 [-inf  nan  nan] 909 nan\n",
            "2.0 [-inf  nan  nan] 897 nan\n"
          ]
        }
      ]
    },
    {
      "cell_type": "markdown",
      "source": [
        "De lo anterior se puede observar que hay omegas en los que la solución diverge y el número de pasos simplemente se dispara. En efecto, a partir de 1.4129 hay una clara divergencia por resultados infinitos, indeterminados o muy grandes."
      ],
      "metadata": {
        "id": "C1h3kqpsItjh"
      }
    },
    {
      "cell_type": "markdown",
      "source": [
        "7. Implemente la descomposición LU para factorizar la siguiente matriz A = LU"
      ],
      "metadata": {
        "id": "LSZWO67TDBnL"
      }
    },
    {
      "cell_type": "code",
      "source": [
        "A = np.array([[4,-2,1]\n",
        "            ,[20,-7,12]\n",
        "            ,[-8,13,17]])"
      ],
      "metadata": {
        "id": "ocgBPOSCFttt"
      },
      "execution_count": null,
      "outputs": []
    },
    {
      "cell_type": "code",
      "source": [
        "def GetLU(A):\n",
        "  A_ = np.array(A)\n",
        "  dim = A_.shape\n",
        "  L = np.zeros_like(A_)\n",
        "\n",
        "  for j in range(0,dim[1]):\n",
        "    # Toda la diagonal de L son unos\n",
        "    L[j,j] = 1.0\n",
        "\n",
        "    for i in range(j+1,dim[1]):\n",
        "      # Coeficientes de la matriz L, se deja fijo j\n",
        "      L[i,j] = A_[i,j]/A_[j,j]\n",
        "    \n",
        "      for kj in range(j,dim[1]):\n",
        "        # Operaciones entre filas, se deja fijo i y j\n",
        "        A_[i,kj] -= L[i,j]*A_[j,kj]\n",
        "\n",
        "  # La matriz resultante es U\n",
        "  U = A_\n",
        "\n",
        "  return L,U"
      ],
      "metadata": {
        "id": "Xptg4Hn2YoGh"
      },
      "execution_count": null,
      "outputs": []
    },
    {
      "cell_type": "code",
      "source": [
        "L,U = GetLU(A)"
      ],
      "metadata": {
        "id": "qqtyxjjnF74F"
      },
      "execution_count": null,
      "outputs": []
    },
    {
      "cell_type": "code",
      "source": [
        "L,U"
      ],
      "metadata": {
        "colab": {
          "base_uri": "https://localhost:8080/"
        },
        "id": "UEy8lDj7F-Ee",
        "outputId": "86b7fbcf-3640-418f-e367-6db339136655"
      },
      "execution_count": null,
      "outputs": [
        {
          "output_type": "execute_result",
          "data": {
            "text/plain": [
              "(array([[ 1,  0,  0],\n",
              "        [ 5,  1,  0],\n",
              "        [-2,  3,  1]]),\n",
              " array([[ 4, -2,  1],\n",
              "        [ 0,  3,  7],\n",
              "        [ 0,  0, -2]]))"
            ]
          },
          "metadata": {},
          "execution_count": 12
        }
      ]
    },
    {
      "cell_type": "code",
      "source": [
        "A == L @ U"
      ],
      "metadata": {
        "colab": {
          "base_uri": "https://localhost:8080/"
        },
        "id": "RIwm8n8CKPBJ",
        "outputId": "48a7eb04-9a28-4960-e360-22dde27c86bb"
      },
      "execution_count": null,
      "outputs": [
        {
          "output_type": "execute_result",
          "data": {
            "text/plain": [
              "array([[ True,  True,  True],\n",
              "       [ True,  True,  True],\n",
              "       [ True,  True,  True]])"
            ]
          },
          "metadata": {},
          "execution_count": 13
        }
      ]
    },
    {
      "cell_type": "markdown",
      "source": [
        "9. Método de Jacobi: diagonalización de matrices simétricas."
      ],
      "metadata": {
        "id": "X2jS1Cd8CvQT"
      }
    },
    {
      "cell_type": "markdown",
      "source": [
        "(a) Implemente el método de Jacobi para encontrar los valores y vectores propios de:"
      ],
      "metadata": {
        "id": "nDT06W2IC3fk"
      }
    },
    {
      "cell_type": "code",
      "source": [
        "A = np.array([[ 4,  1,  1],\n",
        "              [ 1,  3,  2],\n",
        "              [ 1,  2,  5]])"
      ],
      "metadata": {
        "id": "5_SBEjWXC5Gl"
      },
      "execution_count": null,
      "outputs": []
    },
    {
      "cell_type": "code",
      "source": [
        "def GetJacobi(A,max_iter=1000):\n",
        "    n = A.shape[0]\n",
        "    D = np.copy(A) \n",
        "    V = np.identity(n) \n",
        "    iterations = 0\n",
        "\n",
        "    while iterations < max_iter:\n",
        "      max_off_diag = 0\n",
        "      for i in range(n):\n",
        "        for j in range(i+1, n):\n",
        "          if D[i,j] > max_off_diag:\n",
        "            max_off_diag = D[i,j]\n",
        "            posicion_i = i\n",
        "            posicion_j = j\n",
        "          \n",
        "      i = posicion_i\n",
        "      j = posicion_j\n",
        "\n",
        "      if D[i,i] == D[j,j]:\n",
        "          theta = np.pi / 4\n",
        "      \n",
        "      else:\n",
        "          value = (2 * D[i,j]) / (D[j,j] - D[i,i]) \n",
        "          if value >= 0:\n",
        "              theta = 0.5 * np.arctan(value)\n",
        "          if value <= 0:\n",
        "              theta = 0.5 * np.arctan(value) + np.pi\n",
        "\n",
        "      R = np.identity(n)\n",
        "      R[i, i] = np.cos(theta)\n",
        "      R[j, j] = np.cos(theta)\n",
        "      R[i, j] = np.sin(theta)\n",
        "      R[j, i] = -np.sin(theta)\n",
        "\n",
        "      D = np.dot(np.dot(R.T, D), R)\n",
        "      V = np.dot(V, R)\n",
        "\n",
        "      iterations += 1\n",
        "\n",
        "    EigValues = np.diag(D)\n",
        "    EigVectors = V\n",
        "\n",
        "    return EigValues, EigVectors"
      ],
      "metadata": {
        "id": "t0sGT3tSUBbM"
      },
      "execution_count": null,
      "outputs": []
    },
    {
      "cell_type": "code",
      "source": [
        "GetJacobi(A)"
      ],
      "metadata": {
        "colab": {
          "base_uri": "https://localhost:8080/"
        },
        "id": "nkEtRwDslLtk",
        "outputId": "cbe01fc5-9f07-4f86-f8c0-12c0843eb4d5"
      },
      "execution_count": null,
      "outputs": [
        {
          "output_type": "execute_result",
          "data": {
            "text/plain": [
              "(array([3.39729507, 1.70759841, 6.89510652]),\n",
              " array([[ 0.88573564,  0.17059871, -0.43170413],\n",
              "        [-0.07589338, -0.86427949, -0.49725362],\n",
              "        [-0.45794385,  0.47319874, -0.75257583]]))"
            ]
          },
          "metadata": {},
          "execution_count": 16
        }
      ]
    },
    {
      "cell_type": "markdown",
      "source": [
        "(b) Compare con el resultado que se obtiene de Numpy: np.linalg.eig(A)."
      ],
      "metadata": {
        "id": "GdFiNBn4DHNW"
      }
    },
    {
      "cell_type": "code",
      "source": [
        "np.linalg.eig(A)"
      ],
      "metadata": {
        "colab": {
          "base_uri": "https://localhost:8080/"
        },
        "id": "11rBoVoYDGuh",
        "outputId": "8f8b9bf3-1b92-4c0f-fbb5-fd2919ce6f6c"
      },
      "execution_count": null,
      "outputs": [
        {
          "output_type": "execute_result",
          "data": {
            "text/plain": [
              "(array([6.89510652, 3.39729507, 1.70759841]),\n",
              " array([[ 0.43170413,  0.88573564,  0.17059871],\n",
              "        [ 0.49725362, -0.07589338, -0.86427949],\n",
              "        [ 0.75257583, -0.45794385,  0.47319874]]))"
            ]
          },
          "metadata": {},
          "execution_count": 17
        }
      ]
    },
    {
      "cell_type": "markdown",
      "source": [
        "10. Quantum system - ground state:\n",
        "\n",
        "Implemente el algoritmo de la potencia inversa para encontrar el valor del estado base E0 y su vector propio."
      ],
      "metadata": {
        "id": "UwTTaj2tztaF"
      }
    },
    {
      "cell_type": "code",
      "source": [
        "H = np.array([[ 1,  2,  -1],\n",
        "              [ 1,  0,  1],\n",
        "              [ 4,  -4,  5]])"
      ],
      "metadata": {
        "id": "ObmUWj6dzs3i"
      },
      "execution_count": null,
      "outputs": []
    },
    {
      "cell_type": "code",
      "source": [
        "np.linalg.eig(H)"
      ],
      "metadata": {
        "colab": {
          "base_uri": "https://localhost:8080/"
        },
        "id": "Ua-rsUqF5tZa",
        "outputId": "ce4685ed-c551-4fed-e357-28a30326173e"
      },
      "execution_count": null,
      "outputs": [
        {
          "output_type": "execute_result",
          "data": {
            "text/plain": [
              "(array([3., 2., 1.]),\n",
              " array([[-0.23570226,  0.43643578,  0.40824829],\n",
              "        [ 0.23570226, -0.21821789, -0.40824829],\n",
              "        [ 0.94280904, -0.87287156, -0.81649658]]))"
            ]
          },
          "metadata": {},
          "execution_count": 19
        }
      ]
    },
    {
      "cell_type": "code",
      "source": [
        "def GetEigValue(A, c=0, itmax=1000, tolerancia=1e-16):\n",
        "\n",
        "    n = A.shape[0]\n",
        "    v0 = np.zeros(n)\n",
        "    v0[c] = 1.\n",
        "    lambda0 = np.inf\n",
        "    \n",
        "    A_inv = np.linalg.inv(A)\n",
        "    \n",
        "    for k in range(itmax):\n",
        "        v1 = np.dot(A_inv, v0)\n",
        "        lambda1 = v1[c] / v0[c]\n",
        "        v1 = v1 / np.linalg.norm(v1)\n",
        "        \n",
        "        if np.abs(lambda1 - lambda0) < tolerancia:\n",
        "            break\n",
        "            \n",
        "        lambda0 = lambda1\n",
        "        v0 = v1\n",
        "\n",
        "    eigvalue = 1/lambda0\n",
        "    eigvector = v0\n",
        "\n",
        "    return eigvalue, eigvector"
      ],
      "metadata": {
        "id": "6LD7KSHcCErg"
      },
      "execution_count": null,
      "outputs": []
    },
    {
      "cell_type": "code",
      "source": [
        "lambda0, v0 = GetEigValue(H)\n",
        "lambda0, v0"
      ],
      "metadata": {
        "colab": {
          "base_uri": "https://localhost:8080/"
        },
        "id": "XXSpTHU35sjZ",
        "outputId": "af338954-edf6-4761-98f0-3aabb83c8b8d"
      },
      "execution_count": null,
      "outputs": [
        {
          "output_type": "execute_result",
          "data": {
            "text/plain": [
              "(1.0000000000000002, array([ 0.40824829, -0.40824829, -0.81649658]))"
            ]
          },
          "metadata": {},
          "execution_count": 21
        }
      ]
    },
    {
      "cell_type": "markdown",
      "source": [
        "11. Usando los métodos de Newton-Raphson y descenso del gradiente, encuentre la solución de los sistemas de ecuaciones no lineales dados."
      ],
      "metadata": {
        "id": "ygO8e_qOFyFi"
      }
    },
    {
      "cell_type": "markdown",
      "source": [
        "Este punto no tocaba hacerlo, sólo fue hecho por curiosidad"
      ],
      "metadata": {
        "id": "qxHcXizRBWN-"
      }
    },
    {
      "cell_type": "code",
      "source": [
        "x,y,z = sym.symbols(\"x,y,z\",real=True)\n",
        "\n",
        "eq1 = sym.log(x**2+y**2) - sym.sin(x*y) - sym.log(2) - sym.log(sym.pi)\n",
        "eq2 = sym.exp(x-y) + sym.cos(x*y)\n",
        "\n",
        "def GetF(eq1, eq2, x0, y0):\n",
        "  eq1_ = sym.lambdify([x,y],eq1,\"numpy\")(x0,y0)\n",
        "  eq2_ = sym.lambdify([x,y],eq2,\"numpy\")(x0,y0)\n",
        "  return np.array([eq1_, eq2_])\n",
        "\n",
        "def GetJ(eq1,eq2,x0,y0):\n",
        "\n",
        "  eq1_x = sym.lambdify([x,y],eq1.diff(x),\"numpy\")(x0,y0)\n",
        "  eq1_y = sym.lambdify([x,y],eq1.diff(y),\"numpy\")(x0,y0)\n",
        "  eq2_x = sym.lambdify([x,y],eq2.diff(x),\"numpy\")(x0,y0)\n",
        "  eq2_y = sym.lambdify([x,y],eq2.diff(y),\"numpy\")(x0,y0)\n",
        "  \n",
        "  J = np.array([[eq1_x, eq1_y],\n",
        "                [eq2_x, eq2_y]])\n",
        "\n",
        "  return J\n",
        "\n",
        "def GetNewtonRaphson(F,J,x0,y0,eq1,eq2,tolerancia,itmax):\n",
        "  error = tolerancia + 1\n",
        "  iters = 0\n",
        "\n",
        "  vn = np.array([0.,0.])\n",
        "\n",
        "  while error > tolerancia and iters < itmax:\n",
        "    v0 = np.array([x0,y0])\n",
        "\n",
        "    F_val = F(eq1, eq2, x0, y0)\n",
        "    J_inv = np.linalg.inv(J(eq1, eq2, x0, y0))\n",
        "\n",
        "    delta = np.dot(J_inv, F_val)\n",
        "    vn = v0 - delta\n",
        "\n",
        "    x0 = vn[0]\n",
        "    y0 = vn[1]\n",
        "\n",
        "    error = np.linalg.norm(delta)\n",
        "\n",
        "    iters += 1\n",
        "\n",
        "  return vn"
      ],
      "metadata": {
        "id": "3KLvXgOkJY04"
      },
      "execution_count": null,
      "outputs": []
    },
    {
      "cell_type": "code",
      "source": [
        "solucion = GetNewtonRaphson(GetF,GetJ,2.,2.,eq1,eq2,1e-10,1000)\n",
        "solucion"
      ],
      "metadata": {
        "colab": {
          "base_uri": "https://localhost:8080/"
        },
        "id": "kwreLQgDUms6",
        "outputId": "405098fd-7583-4f9c-acf8-37ada297a716"
      },
      "execution_count": null,
      "outputs": [
        {
          "output_type": "execute_result",
          "data": {
            "text/plain": [
              "array([1.77245385, 1.77245385])"
            ]
          },
          "metadata": {},
          "execution_count": 23
        }
      ]
    },
    {
      "cell_type": "code",
      "source": [
        "F = GetF(eq1, eq2, solucion[0],solucion[1])\n",
        "F"
      ],
      "metadata": {
        "colab": {
          "base_uri": "https://localhost:8080/"
        },
        "id": "Z01iqplbikNs",
        "outputId": "fab583b3-bf50-4242-d750-627d009c9986"
      },
      "execution_count": null,
      "outputs": [
        {
          "output_type": "execute_result",
          "data": {
            "text/plain": [
              "array([3.33066907e-16, 0.00000000e+00])"
            ]
          },
          "metadata": {},
          "execution_count": 24
        }
      ]
    },
    {
      "cell_type": "code",
      "source": [
        "x,y,z = sym.symbols(\"x,y,z\",real=True)\n",
        "\n",
        "f1 = 6*x - 2*sym.cos(y*z) - 1\n",
        "f2 = 9*y + sym.sqrt(x**2+sym.sin(z)+1.06) + 0.9 \n",
        "f3 = 60*z + 3*sym.exp(-x*y) + 10*sym.pi - 3\n",
        "\n",
        "G = sym.Matrix([f1,f2,f3])\n",
        "\n",
        "\n",
        "def Jacobian(G):\n",
        "  variables = [x,y,z]\n",
        "  J = sym.zeros(3,3)\n",
        "\n",
        "  for i in range(J.shape[0]):\n",
        "    for j in range(J.shape[1]):\n",
        "      func = G[i]\n",
        "      dfunc = func.diff(variables[j])\n",
        "      dfunc_ = sym.lambdify([x,y,z],dfunc,\"numpy\")\n",
        "\n",
        "      J[i,j] = dfunc\n",
        "\n",
        "  return J\n",
        "\n",
        "J = Jacobian(G)\n",
        "\n",
        "def GetGradient(G,J,x0,y0,z0,tolerancia,itmax,e):\n",
        "  error = tolerancia + 1\n",
        "  iters = 0\n",
        "\n",
        "  G_ = sym.lambdify([x,y,z],G,\"numpy\")\n",
        "  J_ = sym.lambdify([x,y,z],J,\"numpy\")\n",
        "\n",
        "  solucion = np.array([0.,0.,0.])\n",
        "\n",
        "  while error > tolerancia and iters < itmax:\n",
        "    v0 = np.array([x0,y0,z0])\n",
        "\n",
        "    G_val = G_(x0,y0,z0) \n",
        "    J_val = J_(x0,y0,z0)\n",
        "\n",
        "    delta = np.dot(J_val.T, G_val)\n",
        "\n",
        "    solucion = v0 - e*delta.T[0]\n",
        "\n",
        "    x0 = solucion[0]\n",
        "    y0 = solucion[1]\n",
        "    z0 = solucion[2]\n",
        "\n",
        "    error = np.linalg.norm(delta)\n",
        "\n",
        "    iters += 1\n",
        "  return solucion"
      ],
      "metadata": {
        "id": "mQCCacm0qo1R"
      },
      "execution_count": null,
      "outputs": []
    },
    {
      "cell_type": "code",
      "source": [
        "solucion = GetGradient(G,J,0,0,0,1e-10,10000,0.0001)\n",
        "solucion"
      ],
      "metadata": {
        "colab": {
          "base_uri": "https://localhost:8080/"
        },
        "id": "KauDQaLStZmw",
        "outputId": "5f8ccefc-e648-40c0-b42d-bd4adb7b3aae"
      },
      "execution_count": null,
      "outputs": [
        {
          "output_type": "execute_result",
          "data": {
            "text/plain": [
              "array([ 0.49814468, -0.1996059 , -0.52882598])"
            ]
          },
          "metadata": {},
          "execution_count": 26
        }
      ]
    },
    {
      "cell_type": "code",
      "source": [
        "J_ = sym.lambdify([x,y,z],J,\"numpy\")"
      ],
      "metadata": {
        "id": "tMt6hQA2CtoE"
      },
      "execution_count": null,
      "outputs": []
    },
    {
      "cell_type": "code",
      "source": [
        "G_ = sym.lambdify([x,y,z],G,\"numpy\")\n",
        "G_(solucion[0],solucion[1],solucion[2])"
      ],
      "metadata": {
        "colab": {
          "base_uri": "https://localhost:8080/"
        },
        "id": "LxohWs2A45dC",
        "outputId": "ad1a7263-f9cd-4b1b-ec42-b1c1118ba159"
      },
      "execution_count": null,
      "outputs": [
        {
          "output_type": "execute_result",
          "data": {
            "text/plain": [
              "array([[-1.65647496e-11],\n",
              "       [ 8.37441227e-13],\n",
              "       [ 1.02140518e-14]])"
            ]
          },
          "metadata": {},
          "execution_count": 28
        }
      ]
    },
    {
      "cell_type": "markdown",
      "source": [
        "12. (Jacobiano de cuarto orden) Usando el operador derivada central de orden O(h4) es posible mejorar la estimación del Jacobiano para funciones vectoriales."
      ],
      "metadata": {
        "id": "H-iF683F63OE"
      }
    },
    {
      "cell_type": "markdown",
      "source": [
        "(a) Escriba una función que estime el Jacobiano con el operador derivada de orden O(h4)\n"
      ],
      "metadata": {
        "id": "C6-5BZZR6-ZX"
      }
    },
    {
      "cell_type": "markdown",
      "source": [
        "![image.png](data:image/png;base64,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)"
      ],
      "metadata": {
        "id": "MD_KZLdu9uyw"
      }
    },
    {
      "cell_type": "code",
      "source": [
        "# Para tres variables y tres funciones\n",
        "f1_ = sym.lambdify([x,y,z],f1,\"numpy\")\n",
        "f2_ = sym.lambdify([x,y,z],f2,\"numpy\")\n",
        "f3_ = sym.lambdify([x,y,z],f3,\"numpy\")\n",
        "\n",
        "func = np.array([f1_,f2_,f3_])\n",
        "\n",
        "def Jacobian4Orden(func,x0,y0,z0,h):\n",
        "  J = np.zeros((3,3))\n",
        "\n",
        "  J[0,0] = (func[0](x0-2*h,y0,z0) - 8*func[0](x0-h,y0,z0) + 8*func[0](x0+h,y0,z0) - func[0](x0+2*h,y0,z0))/(12*h)\n",
        "  J[0,1] = (func[0](x0,y0-2*h,z0) - 8*func[0](x0,y0-h,z0) + 8*func[0](x0,y0+h,z0) - func[0](x0,y0+2*h,z0))/(12*h)\n",
        "  J[0,2] = (func[0](x0,y0,z0-2*h) - 8*func[0](x0,y0,z0-h) + 8*func[0](x0,y0,z0+h) - func[0](x0,y0,z0+2*h))/(12*h)\n",
        "\n",
        "  J[1,0] = (func[1](x0-2*h,y0,z0) - 8*func[1](x0-h,y0,z0) + 8*func[1](x0+h,y0,z0) - func[1](x0+2*h,y0,z0))/(12*h)\n",
        "  J[1,1] = (func[1](x0,y0-2*h,z0) - 8*func[1](x0,y0-h,z0) + 8*func[1](x0,y0+h,z0) - func[1](x0,y0+2*h,z0))/(12*h)\n",
        "  J[1,2] = (func[1](x0,y0,z0-2*h) - 8*func[1](x0,y0,z0-h) + 8*func[1](x0,y0,z0+h) - func[1](x0,y0,z0+2*h))/(12*h)\n",
        "\n",
        "  J[2,0] = (func[2](x0-2*h,y0,z0) - 8*func[2](x0-h,y0,z0) + 8*func[2](x0+h,y0,z0) - func[2](x0+2*h,y0,z0))/(12*h)\n",
        "  J[2,1] = (func[2](x0,y0-2*h,z0) - 8*func[2](x0,y0-h,z0) + 8*func[2](x0,y0+h,z0) - func[2](x0,y0+2*h,z0))/(12*h)\n",
        "  J[2,2] = (func[2](x0,y0,z0-2*h) - 8*func[2](x0,y0,z0-h) + 8*func[2](x0,y0,z0+h) - func[2](x0,y0,z0+2*h))/(12*h)\n",
        "\n",
        "  return J"
      ],
      "metadata": {
        "id": "jX_H2ne8-QE-"
      },
      "execution_count": null,
      "outputs": []
    },
    {
      "cell_type": "markdown",
      "source": [
        "(b) Estime el Jacobiano de la función del problema anterior en el punto x =(0.5, 0.5, 0.5) con h = 0.01.\n"
      ],
      "metadata": {
        "id": "K8NG0Qxs-EBo"
      }
    },
    {
      "cell_type": "code",
      "source": [
        "J_a = Jacobian4Orden(func,0.5,0.5,0.5,1e-2)\n",
        "det_Ja = np.linalg.det(J_a)\n",
        "\n",
        "J_a, det_Ja"
      ],
      "metadata": {
        "colab": {
          "base_uri": "https://localhost:8080/"
        },
        "id": "aakDI2Id9uSe",
        "outputId": "53205281-0ac7-4649-b6ec-ced8132f2bd0"
      },
      "execution_count": null,
      "outputs": [
        {
          "output_type": "execute_result",
          "data": {
            "text/plain": [
              "(array([[ 6.        ,  0.24740396,  0.24740396],\n",
              "        [ 0.37377753,  9.        ,  0.32802064],\n",
              "        [-1.16820117, -1.16820117, 60.        ]]),\n",
              " 3239.149048516114)"
            ]
          },
          "metadata": {},
          "execution_count": 30
        }
      ]
    },
    {
      "cell_type": "code",
      "source": [
        "J_b = J_(0.5,0.5,0.5)\n",
        "det_Jb = np.linalg.det(J_b)\n",
        "J_b, det_Jb"
      ],
      "metadata": {
        "colab": {
          "base_uri": "https://localhost:8080/"
        },
        "id": "rfvVMZkP6zrj",
        "outputId": "d10d4da8-a06e-4ac9-cc52-7b1aee47a8b0"
      },
      "execution_count": null,
      "outputs": [
        {
          "output_type": "execute_result",
          "data": {
            "text/plain": [
              "(array([[ 6.        ,  0.24740396,  0.24740396],\n",
              "        [ 0.37377753,  9.        ,  0.32802064],\n",
              "        [-1.16820117, -1.16820117, 60.        ]]),\n",
              " 3239.1490485004633)"
            ]
          },
          "metadata": {},
          "execution_count": 31
        }
      ]
    },
    {
      "cell_type": "code",
      "source": [
        "error1a, error1b = np.abs(J_a - J_b), np.abs(det_Jb - det_Ja)\n",
        "error1a, error1b"
      ],
      "metadata": {
        "colab": {
          "base_uri": "https://localhost:8080/"
        },
        "id": "G7lOJPxUDD8U",
        "outputId": "22e5b140-bdb6-41bb-9231-6fbb18e0b5dd"
      },
      "execution_count": null,
      "outputs": [
        {
          "output_type": "execute_result",
          "data": {
            "text/plain": [
              "(array([[5.32907052e-15, 5.15434917e-12, 5.15434917e-12],\n",
              "        [1.01521719e-09, 1.42108547e-14, 4.56234495e-11],\n",
              "        [2.43236542e-11, 2.43236542e-11, 2.62900812e-13]]),\n",
              " 1.565058482810855e-08)"
            ]
          },
          "metadata": {},
          "execution_count": 32
        }
      ]
    },
    {
      "cell_type": "markdown",
      "source": [
        "(c) Estime el Jacobiano usando la aproximación de orden O(h2) con h = 0.01."
      ],
      "metadata": {
        "id": "DtCJaFk_C1SW"
      }
    },
    {
      "cell_type": "markdown",
      "source": [
        "![image.png](data:image/png;base64,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)"
      ],
      "metadata": {
        "id": "Jqz9pGg_Dmw8"
      }
    },
    {
      "cell_type": "code",
      "source": [
        "def Jacobian2Orden(func,x0,y0,z0,h):\n",
        "  J = np.zeros((3,3))\n",
        "\n",
        "  J[0,0] = (-3*func[0](x0,y0,z0) + 4*func[0](x0+h,y0,z0) - func[0](x0+2*h,y0,z0))/(2*h)\n",
        "  J[0,1] = (-3*func[0](x0,y0,z0) + 4*func[0](x0,y0+h,z0) - func[0](x0,y0+2*h,z0))/(2*h)\n",
        "  J[0,2] = (-3*func[0](x0,y0,z0) + 4*func[0](x0,y0,z0+h) - func[0](x0,y0,z0+2*h))/(2*h)\n",
        "\n",
        "  J[1,0] = (-3*func[1](x0,y0,z0) + 4*func[1](x0+h,y0,z0) - func[1](x0+2*h,y0,z0))/(2*h)\n",
        "  J[1,1] = (-3*func[1](x0,y0,z0) + 4*func[1](x0,y0+h,z0) - func[1](x0,y0+2*h,z0))/(2*h)\n",
        "  J[1,2] = (-3*func[1](x0,y0,z0) + 4*func[1](x0,y0,z0+h) - func[1](x0,y0,z0+2*h))/(2*h)\n",
        "\n",
        "  J[2,0] = (-3*func[2](x0,y0,z0) + 4*func[2](x0+h,y0,z0) - func[2](x0+2*h,y0,z0))/(2*h)\n",
        "  J[2,1] = (-3*func[2](x0,y0,z0) + 4*func[2](x0,y0+h,z0) - func[2](x0,y0+2*h,z0))/(2*h)\n",
        "  J[2,2] = (-3*func[2](x0,y0,z0) + 4*func[2](x0,y0,z0+h) - func[2](x0,y0,z0+2*h))/(2*h)\n",
        "\n",
        "  return J"
      ],
      "metadata": {
        "id": "FHsSdIh8Ca8Y"
      },
      "execution_count": null,
      "outputs": []
    },
    {
      "cell_type": "code",
      "source": [
        "J_c = Jacobian2Orden(func,0.5,0.5,0.5,1e-2)\n",
        "det_Jc = np.linalg.det(J_c)\n",
        "\n",
        "J_c, det_Jc"
      ],
      "metadata": {
        "colab": {
          "base_uri": "https://localhost:8080/"
        },
        "id": "OQ1H0pfEERsl",
        "outputId": "3521e7a5-ea94-4611-ccd7-cbf0d681dbc8"
      },
      "execution_count": null,
      "outputs": [
        {
          "output_type": "execute_result",
          "data": {
            "text/plain": [
              "(array([[ 6.        ,  0.24740605,  0.24740605],\n",
              "        [ 0.37379558,  9.        ,  0.32802517],\n",
              "        [-1.16819148, -1.16819148, 60.        ]]),\n",
              " 3239.1487401658574)"
            ]
          },
          "metadata": {},
          "execution_count": 34
        }
      ]
    },
    {
      "cell_type": "code",
      "source": [
        "J_b"
      ],
      "metadata": {
        "colab": {
          "base_uri": "https://localhost:8080/"
        },
        "id": "LhAfqlCYEVdc",
        "outputId": "1f1ab133-e515-4ea5-b785-3dbff45e28d0"
      },
      "execution_count": null,
      "outputs": [
        {
          "output_type": "execute_result",
          "data": {
            "text/plain": [
              "array([[ 6.        ,  0.24740396,  0.24740396],\n",
              "       [ 0.37377753,  9.        ,  0.32802064],\n",
              "       [-1.16820117, -1.16820117, 60.        ]])"
            ]
          },
          "metadata": {},
          "execution_count": 35
        }
      ]
    },
    {
      "cell_type": "code",
      "source": [
        "error2a, error2b = np.abs(J_c - J_b), np.abs(det_Jc - det_Jb)\n",
        "error2a, error2b"
      ],
      "metadata": {
        "colab": {
          "base_uri": "https://localhost:8080/"
        },
        "id": "DhpuLbmvEW5k",
        "outputId": "43164282-390f-4406-e4ca-3164e0572959"
      },
      "execution_count": null,
      "outputs": [
        {
          "output_type": "execute_result",
          "data": {
            "text/plain": [
              "(array([[5.32907052e-15, 2.09195999e-06, 2.09195999e-06],\n",
              "        [1.80475798e-05, 1.42108547e-14, 4.52700880e-06],\n",
              "        [9.69858859e-06, 9.69858859e-06, 1.27897692e-12]]),\n",
              " 0.0003083346059611358)"
            ]
          },
          "metadata": {},
          "execution_count": 36
        }
      ]
    },
    {
      "cell_type": "code",
      "source": [
        "error1b, error2b # Errores en el determinante de las matrices"
      ],
      "metadata": {
        "colab": {
          "base_uri": "https://localhost:8080/"
        },
        "id": "CpNhBNRMEkJ6",
        "outputId": "5cc90d8f-1355-4448-ed8e-82f9a93557d2"
      },
      "execution_count": null,
      "outputs": [
        {
          "output_type": "execute_result",
          "data": {
            "text/plain": [
              "(1.565058482810855e-08, 0.0003083346059611358)"
            ]
          },
          "metadata": {},
          "execution_count": 37
        }
      ]
    },
    {
      "cell_type": "markdown",
      "source": [
        "Para qué valor de h, el operador de segundo orden igualará en precisión al operador de cuarto orden; verifique su intuición en el código."
      ],
      "metadata": {
        "id": "E8y5qan8TH6a"
      }
    },
    {
      "cell_type": "code",
      "source": [
        "J1 = Jacobian2Orden(func,0.5,0.5,0.5,1e-0)\n",
        "J2 = Jacobian4Orden(func,0.5,0.5,0.5,1e-0)\n",
        "\n",
        "error1 = np.abs(J1-J_b)\n",
        "error2 = np.abs(J2-J_b)"
      ],
      "metadata": {
        "id": "oZxYiXDbSaYr"
      },
      "execution_count": null,
      "outputs": []
    },
    {
      "cell_type": "code",
      "source": [
        "for i in range(0,21):\n",
        "  h = 10**(-i)\n",
        "\n",
        "  J1 = Jacobian2Orden(func,0.5,0.5,0.5,h)\n",
        "  J2 = Jacobian4Orden(func,0.5,0.5,0.5,h)\n",
        "\n",
        "  detJ1 = np.linalg.det(J1)\n",
        "  detJ2 = np.linalg.det(J2)\n",
        "\n",
        "  error1 = np.abs(detJ1-det_Jb)\n",
        "  error2 = np.abs(detJ2-det_Jb) \n",
        "\n",
        "  print (\"\\n Error orden 2: {0}, \\n Error orden 4: {1}, \\n h = {2} \".format(error1,error2,h))"
      ],
      "metadata": {
        "colab": {
          "base_uri": "https://localhost:8080/"
        },
        "id": "gO-pyvg8Tcn7",
        "outputId": "695aa105-cc24-4ba6-b3b1-30a20b4c5be3"
      },
      "execution_count": null,
      "outputs": [
        {
          "output_type": "stream",
          "name": "stdout",
          "text": [
            "\n",
            " Error orden 2: 2.9502260122035295, \n",
            " Error orden 4: 0.630179102850434, \n",
            " h = 1 \n",
            "\n",
            " Error orden 2: 0.03192455701446306, \n",
            " Error orden 4: 0.0001548724985696026, \n",
            " h = 0.1 \n",
            "\n",
            " Error orden 2: 0.0003083346059611358, \n",
            " Error orden 4: 1.565058482810855e-08, \n",
            " h = 0.01 \n",
            "\n",
            " Error orden 2: 3.068846126552671e-06, \n",
            " Error orden 4: 4.0472514228895307e-11, \n",
            " h = 0.001 \n",
            "\n",
            " Error orden 2: 3.177319740643725e-08, \n",
            " Error orden 4: 3.396962711121887e-10, \n",
            " h = 0.0001 \n",
            "\n",
            " Error orden 2: 1.3018734534853138e-07, \n",
            " Error orden 4: 1.371745383949019e-08, \n",
            " h = 1e-05 \n",
            "\n",
            " Error orden 2: 7.424987416015938e-07, \n",
            " Error orden 4: 2.5674989956314676e-07, \n",
            " h = 1e-06 \n",
            "\n",
            " Error orden 2: 1.6774575669842307e-05, \n",
            " Error orden 4: 7.95538971942733e-06, \n",
            " h = 1e-07 \n",
            "\n",
            " Error orden 2: 8.339329269801965e-06, \n",
            " Error orden 4: 3.8956612115725875e-05, \n",
            " h = 1e-08 \n",
            "\n",
            " Error orden 2: 0.0010706893835958908, \n",
            " Error orden 4: 0.0006026791556905664, \n",
            " h = 1e-09 \n",
            "\n",
            " Error orden 2: 0.0062818123437864415, \n",
            " Error orden 4: 0.0026238477144033823, \n",
            " h = 1e-10 \n",
            "\n",
            " Error orden 2: 0.048939527619040746, \n",
            " Error orden 4: 0.015909784449377185, \n",
            " h = 1e-11 \n",
            "\n",
            " Error orden 2: 0.21076370838864023, \n",
            " Error orden 4: 0.32355815515620634, \n",
            " h = 1e-12 \n",
            "\n",
            " Error orden 2: 8.64731381951924, \n",
            " Error orden 4: 0.6506962933331124, \n",
            " h = 1e-13 \n",
            "\n",
            " Error orden 2: 33.128092929242484, \n",
            " Error orden 4: 25.385740507795617, \n",
            " h = 1e-14 \n",
            "\n",
            " Error orden 2: 101.19616583381548, \n",
            " Error orden 4: 355.4166841099659, \n",
            " h = 1e-15 \n",
            "\n",
            " Error orden 2: 24258.626013372712, \n",
            " Error orden 4: 5025.916893859805, \n",
            " h = 1e-16 \n",
            "\n",
            " Error orden 2: 3239.1490485004633, \n",
            " Error orden 4: 3239.1490485004633, \n",
            " h = 1e-17 \n",
            "\n",
            " Error orden 2: 3239.1490485004633, \n",
            " Error orden 4: 3239.1490485004633, \n",
            " h = 1e-18 \n",
            "\n",
            " Error orden 2: 3239.1490485004633, \n",
            " Error orden 4: 3239.1490485004633, \n",
            " h = 1e-19 \n",
            "\n",
            " Error orden 2: 3239.1490485004633, \n",
            " Error orden 4: 3239.1490485004633, \n",
            " h = 1e-20 \n"
          ]
        }
      ]
    },
    {
      "cell_type": "markdown",
      "source": [
        "Parece ser que en h = 1e-06 el operador de segundo orden iguala en precisión al operador de cuarto orden. Esto pasa al comparar el cálculo del determinante."
      ],
      "metadata": {
        "id": "xNGAp_65XVv3"
      }
    },
    {
      "cell_type": "code",
      "source": [
        "J1 = Jacobian2Orden(func,0.5,0.5,0.5,1e-06)\n",
        "J2 = Jacobian4Orden(func,0.5,0.5,0.5,1e-06)\n",
        "\n",
        "error1 = np.abs(J1-J_b)\n",
        "error2 = np.abs(J2-J_b)\n",
        "\n",
        "error1, error2"
      ],
      "metadata": {
        "colab": {
          "base_uri": "https://localhost:8080/"
        },
        "id": "h0NWYeKMUpB-",
        "outputId": "61bbb6c1-8a3d-4f81-ac7d-d3dbd24f24d1"
      },
      "execution_count": null,
      "outputs": [
        {
          "output_type": "execute_result",
          "data": {
            "text/plain": [
              "(array([[4.95106178e-11, 1.57352992e-10, 1.57352992e-10],\n",
              "        [1.20525107e-09, 3.69823283e-10, 6.78820611e-10],\n",
              "        [1.27332935e-08, 1.27332935e-08, 1.64823177e-08]]),\n",
              " array([[4.95106178e-11, 4.63306893e-11, 4.63306893e-11],\n",
              "        [5.30017141e-11, 5.18355137e-10, 5.79432169e-10],\n",
              "        [4.44362835e-09, 4.44362835e-09, 1.08722986e-09]]))"
            ]
          },
          "metadata": {},
          "execution_count": 40
        }
      ]
    },
    {
      "cell_type": "markdown",
      "source": [
        "Cuando comparamos los componentes matriciales podemos notar en la mayoría de estos que la precisión es muy similar o igual."
      ],
      "metadata": {
        "id": "_M5t1lK9X_-6"
      }
    },
    {
      "cell_type": "markdown",
      "source": [
        "13. (Group theory, Sympy) El grupo de rotación SO(3) (special orthogonal dim 3) describe las rotaciones en el espacio. Este grupo tiene el siguiente conjunto de generadores:"
      ],
      "metadata": {
        "id": "AjExoT_2Yqej"
      }
    },
    {
      "cell_type": "code",
      "source": [
        "Jx = sym.Matrix([[0,0,0],\n",
        "               [0,0,-1],\n",
        "               [0,1,0]])\n",
        "\n",
        "Jy = sym.Matrix([[0,0,1],\n",
        "               [0,0,0],\n",
        "               [-1,0,0]])\n",
        "\n",
        "Jz = sym.Matrix([[0,-1,0],\n",
        "               [1,0,0],\n",
        "               [0,0,0]])"
      ],
      "metadata": {
        "id": "NVWmwtSjWu6Q"
      },
      "execution_count": null,
      "outputs": []
    },
    {
      "cell_type": "code",
      "source": [
        "SO3 = [Jx,Jy,Jz]\n",
        "SO3"
      ],
      "metadata": {
        "colab": {
          "base_uri": "https://localhost:8080/"
        },
        "id": "OYVqPy9gZHwy",
        "outputId": "fdf1bb6e-53cc-48fd-dac7-172e993d0555"
      },
      "execution_count": null,
      "outputs": [
        {
          "output_type": "execute_result",
          "data": {
            "text/plain": [
              "[Matrix([\n",
              " [0, 0,  0],\n",
              " [0, 0, -1],\n",
              " [0, 1,  0]]),\n",
              " Matrix([\n",
              " [ 0, 0, 1],\n",
              " [ 0, 0, 0],\n",
              " [-1, 0, 0]]),\n",
              " Matrix([\n",
              " [0, -1, 0],\n",
              " [1,  0, 0],\n",
              " [0,  0, 0]])]"
            ]
          },
          "metadata": {},
          "execution_count": 42
        }
      ]
    },
    {
      "cell_type": "code",
      "source": [
        "def GetLeiviCivita(i,j,k):\n",
        "\n",
        "  if ((i,j,k) == (1,2,3) or\n",
        "      (i,j,k) == (2,3,1) or\n",
        "      (i,j,k) == (3,1,2)):\n",
        "    sign = 1\n",
        "  \n",
        "  elif ((i,j,k) == (3,2,1) or\n",
        "      (i,j,k) == (1,3,2) or\n",
        "      (i,j,k) == (2,1,3)):\n",
        "    sign = -1\n",
        "\n",
        "  else:\n",
        "    sign = 0\n",
        "\n",
        "  return sign"
      ],
      "metadata": {
        "id": "GoJFq3Txbigi"
      },
      "execution_count": null,
      "outputs": []
    },
    {
      "cell_type": "code",
      "source": [
        "def GetConmutadorLie(C,i,j,k):\n",
        "  sign = GetLeiviCivita(i,j,k)\n",
        "  k = k-1\n",
        "  return sign * SO3[k]\n",
        "\n",
        "def GetConmutador(C,i,j):\n",
        "  return SO3[i-1]*SO3[j-1] - SO3[j-1]*SO3[i-1]"
      ],
      "metadata": {
        "id": "334xvjU6dIn-"
      },
      "execution_count": null,
      "outputs": []
    },
    {
      "cell_type": "code",
      "source": [
        "\"\"\"Para que funcione, k != i, k!=j porque GetConmutadorLie se hace 0,\n",
        "mientras que GetConmutador cuando i != j da otra cosa al no depender\n",
        "de la letra k\"\"\"\n",
        "\n",
        "i, j, k = 1, 2, 3"
      ],
      "metadata": {
        "id": "NPF3a-1AddHi"
      },
      "execution_count": null,
      "outputs": []
    },
    {
      "cell_type": "code",
      "source": [
        "GetConmutador(SO3,i,j)"
      ],
      "metadata": {
        "colab": {
          "base_uri": "https://localhost:8080/",
          "height": 78
        },
        "id": "1DlGvu3-TH4I",
        "outputId": "15bba3b6-d25b-40ed-96c1-8fdcf6c6940c"
      },
      "execution_count": null,
      "outputs": [
        {
          "output_type": "execute_result",
          "data": {
            "text/plain": [
              "Matrix([\n",
              "[0, -1, 0],\n",
              "[1,  0, 0],\n",
              "[0,  0, 0]])"
            ],
            "text/latex": "$\\displaystyle \\left[\\begin{matrix}0 & -1 & 0\\\\1 & 0 & 0\\\\0 & 0 & 0\\end{matrix}\\right]$"
          },
          "metadata": {},
          "execution_count": 46
        }
      ]
    },
    {
      "cell_type": "code",
      "source": [
        "GetConmutadorLie(SO3,i,j,k)"
      ],
      "metadata": {
        "colab": {
          "base_uri": "https://localhost:8080/",
          "height": 78
        },
        "id": "LDPeJRnaTIBH",
        "outputId": "91ab9d2e-ffe4-44b1-d9a3-7ccd578abce1"
      },
      "execution_count": null,
      "outputs": [
        {
          "output_type": "execute_result",
          "data": {
            "text/plain": [
              "Matrix([\n",
              "[0, -1, 0],\n",
              "[1,  0, 0],\n",
              "[0,  0, 0]])"
            ],
            "text/latex": "$\\displaystyle \\left[\\begin{matrix}0 & -1 & 0\\\\1 & 0 & 0\\\\0 & 0 & 0\\end{matrix}\\right]$"
          },
          "metadata": {},
          "execution_count": 47
        }
      ]
    },
    {
      "cell_type": "code",
      "source": [
        "GetConmutador(SO3,i,j) == GetConmutadorLie(SO3,i,j,k)"
      ],
      "metadata": {
        "colab": {
          "base_uri": "https://localhost:8080/"
        },
        "id": "wm-ZpLtkTILF",
        "outputId": "fa10e6eb-f0b2-41df-a541-d310fdc39c32"
      },
      "execution_count": null,
      "outputs": [
        {
          "output_type": "execute_result",
          "data": {
            "text/plain": [
              "True"
            ]
          },
          "metadata": {},
          "execution_count": 48
        }
      ]
    },
    {
      "cell_type": "code",
      "source": [
        "for i in range(3):\n",
        "  for j in range(3):\n",
        "    for k in range(3):\n",
        "      if k!=i and k!=j:\n",
        "        Conmutador = GetConmutador(SO3,i+1,j+1)\n",
        "        Lie = GetConmutadorLie(SO3,i+1,j+1,k+1)\n",
        "        print(i,j,k)\n",
        "        print(Conmutador == Lie)"
      ],
      "metadata": {
        "colab": {
          "base_uri": "https://localhost:8080/"
        },
        "id": "O4GgMBCrR7Po",
        "outputId": "ab9a5ad9-52bb-465e-dbfd-4d0d86c4f8a0"
      },
      "execution_count": null,
      "outputs": [
        {
          "output_type": "stream",
          "name": "stdout",
          "text": [
            "0 0 1\n",
            "True\n",
            "0 0 2\n",
            "True\n",
            "0 1 2\n",
            "True\n",
            "0 2 1\n",
            "True\n",
            "1 0 2\n",
            "True\n",
            "1 1 0\n",
            "True\n",
            "1 1 2\n",
            "True\n",
            "1 2 0\n",
            "True\n",
            "2 0 1\n",
            "True\n",
            "2 1 0\n",
            "True\n",
            "2 2 0\n",
            "True\n",
            "2 2 1\n",
            "True\n"
          ]
        }
      ]
    },
    {
      "cell_type": "markdown",
      "source": [
        "Se puede observar que para valores de $i$ y $j$ con $k \\neq i$ y $k \\neq j$, la igualdad se cumple"
      ],
      "metadata": {
        "id": "QknAMvZtSNb3"
      }
    },
    {
      "cell_type": "markdown",
      "source": [
        "14. (Group theory, Sympy) El grupo de rotación SU(2) (special unitary dim 2) describe el operador de espín para una partícula fundamental con s=1/2. Este grupo tiene el siguiente conjunto de generadores:"
      ],
      "metadata": {
        "id": "ttv-PoQkkhv8"
      }
    },
    {
      "cell_type": "code",
      "source": [
        "sigmax = sym.Matrix([[0,1],[1,0]])\n",
        "\n",
        "sigmay = sym.Matrix([[0,-1j], [1j,0]])\n",
        "\n",
        "sigmaz = sym.Matrix([[1,0],[0,-1]])\n",
        "\n",
        "SU2 = [sigmax, sigmay, sigmaz]"
      ],
      "metadata": {
        "id": "hv7SAb3ZqUNw"
      },
      "execution_count": null,
      "outputs": []
    },
    {
      "cell_type": "code",
      "source": [
        "def GetConmutadorLie(C,i,j,k):\n",
        "  sign = GetLeiviCivita(i,j,k)\n",
        "  return sign * C[k-1] * 2j\n",
        "\n",
        "def GetConmutador(C,i,j):\n",
        "  return C[i-1]*C[j-1] - C[j-1]*C[i-1]"
      ],
      "metadata": {
        "id": "sOv5V8qCk9Ex"
      },
      "execution_count": null,
      "outputs": []
    },
    {
      "cell_type": "code",
      "source": [
        "\"\"\"Para que funcione, k != i, k!=j porque GetConmutadorLie se hace 0,\n",
        "mientras que GetConmutador cuando i != j da otra cosa al no depender\n",
        "de la letra k\"\"\"\n",
        "\n",
        "i, j, k = 3, 2, 1"
      ],
      "metadata": {
        "id": "gaSqDLVDlofo"
      },
      "execution_count": null,
      "outputs": []
    },
    {
      "cell_type": "code",
      "source": [
        "GetConmutador(SU2,i,j)"
      ],
      "metadata": {
        "colab": {
          "base_uri": "https://localhost:8080/",
          "height": 58
        },
        "id": "gO0SUBUsQHRC",
        "outputId": "e3271a17-bcbc-4c56-9b24-6bb7cab73391"
      },
      "execution_count": null,
      "outputs": [
        {
          "output_type": "execute_result",
          "data": {
            "text/plain": [
              "Matrix([\n",
              "[     0, -2.0*I],\n",
              "[-2.0*I,      0]])"
            ],
            "text/latex": "$\\displaystyle \\left[\\begin{matrix}0 & - 2.0 i\\\\- 2.0 i & 0\\end{matrix}\\right]$"
          },
          "metadata": {},
          "execution_count": 53
        }
      ]
    },
    {
      "cell_type": "code",
      "source": [
        "GetConmutadorLie(SU2,i,j,k)"
      ],
      "metadata": {
        "colab": {
          "base_uri": "https://localhost:8080/",
          "height": 58
        },
        "id": "YBz7dJM0QAUG",
        "outputId": "9dc46f85-fd94-41b2-b896-066566ff4191"
      },
      "execution_count": null,
      "outputs": [
        {
          "output_type": "execute_result",
          "data": {
            "text/plain": [
              "Matrix([\n",
              "[     0, -2.0*I],\n",
              "[-2.0*I,      0]])"
            ],
            "text/latex": "$\\displaystyle \\left[\\begin{matrix}0 & - 2.0 i\\\\- 2.0 i & 0\\end{matrix}\\right]$"
          },
          "metadata": {},
          "execution_count": 54
        }
      ]
    },
    {
      "cell_type": "code",
      "source": [
        "GetConmutador(SU2,i,j) == GetConmutadorLie(SU2,i,j,k)"
      ],
      "metadata": {
        "colab": {
          "base_uri": "https://localhost:8080/"
        },
        "id": "VLKMWP_dQHm5",
        "outputId": "b0fe4fc4-8b7a-4ef4-a56b-df936fb95372"
      },
      "execution_count": null,
      "outputs": [
        {
          "output_type": "execute_result",
          "data": {
            "text/plain": [
              "True"
            ]
          },
          "metadata": {},
          "execution_count": 55
        }
      ]
    },
    {
      "cell_type": "code",
      "source": [
        "for i in range(3):\n",
        "  for j in range(3):\n",
        "    for k in range(3):\n",
        "      if k!=i and k!=j:\n",
        "        Conmutador = GetConmutador(SU2,i+1,j+1)\n",
        "        Lie = GetConmutadorLie(SU2,i+1,j+1,k+1)\n",
        "        print(i,j,k)\n",
        "        print(Conmutador == Lie)"
      ],
      "metadata": {
        "colab": {
          "base_uri": "https://localhost:8080/"
        },
        "id": "_BpqGcPYQtk7",
        "outputId": "f95a0933-cba2-4f81-f820-01af96850d42"
      },
      "execution_count": null,
      "outputs": [
        {
          "output_type": "stream",
          "name": "stdout",
          "text": [
            "0 0 1\n",
            "True\n",
            "0 0 2\n",
            "True\n",
            "0 1 2\n",
            "True\n",
            "0 2 1\n",
            "True\n",
            "1 0 2\n",
            "True\n",
            "1 1 0\n",
            "True\n",
            "1 1 2\n",
            "True\n",
            "1 2 0\n",
            "True\n",
            "2 0 1\n",
            "True\n",
            "2 1 0\n",
            "True\n",
            "2 2 0\n",
            "True\n",
            "2 2 1\n",
            "True\n"
          ]
        }
      ]
    },
    {
      "cell_type": "markdown",
      "source": [
        "Se puede observar que para valores de $i$ y $j$ con $k \\neq i$ y $k \\neq j$, la igualdad se cumple"
      ],
      "metadata": {
        "id": "QQyhaLhLQOAp"
      }
    },
    {
      "cell_type": "markdown",
      "source": [
        "15. (Particle Physics, Sympy) La matrices de Dirac son una representación del álgebra de Clifford, que transforman correctamente el espacio de espinores de la teoría cuántica de campos:"
      ],
      "metadata": {
        "id": "-VF26meaqdBp"
      }
    },
    {
      "cell_type": "code",
      "source": [
        "gamma0 = sym.Matrix([[1,0,0,0],\n",
        "                    [0,1,0,0],\n",
        "                    [0,0,-1,0],\n",
        "                    [0,0,0,-1]])\n",
        "\n",
        "gamma1 = sym.Matrix([[0,0,0,1],\n",
        "                    [0,0,1,0],\n",
        "                    [0,-1,0,0],\n",
        "                    [-1,0,0,0]])\n",
        "\n",
        "gamma2 = sym.Matrix([[0,0,0,-1j],\n",
        "                    [0,0,1j,0],\n",
        "                    [0,1j,0,0],\n",
        "                    [-1j,0,0,0]])\n",
        "\n",
        "gamma3 = sym.Matrix([[0,0,1,0],\n",
        "                    [0,0,0,-1],\n",
        "                    [-1,0,0,0],\n",
        "                    [0,1,0,0]])"
      ],
      "metadata": {
        "id": "ledQJwOImtpn"
      },
      "execution_count": null,
      "outputs": []
    },
    {
      "cell_type": "code",
      "source": [
        "Dirac = [gamma0,gamma1,gamma2,gamma3]\n",
        "Dirac"
      ],
      "metadata": {
        "colab": {
          "base_uri": "https://localhost:8080/"
        },
        "id": "ZY0hs5rASfJU",
        "outputId": "0ab81d23-52a6-48da-8b74-25c47d451c25"
      },
      "execution_count": null,
      "outputs": [
        {
          "output_type": "execute_result",
          "data": {
            "text/plain": [
              "[Matrix([\n",
              " [1, 0,  0,  0],\n",
              " [0, 1,  0,  0],\n",
              " [0, 0, -1,  0],\n",
              " [0, 0,  0, -1]]),\n",
              " Matrix([\n",
              " [ 0,  0, 0, 1],\n",
              " [ 0,  0, 1, 0],\n",
              " [ 0, -1, 0, 0],\n",
              " [-1,  0, 0, 0]]),\n",
              " Matrix([\n",
              " [     0,     0,     0, -1.0*I],\n",
              " [     0,     0, 1.0*I,      0],\n",
              " [     0, 1.0*I,     0,      0],\n",
              " [-1.0*I,     0,     0,      0]]),\n",
              " Matrix([\n",
              " [ 0, 0, 1,  0],\n",
              " [ 0, 0, 0, -1],\n",
              " [-1, 0, 0,  0],\n",
              " [ 0, 1, 0,  0]])]"
            ]
          },
          "metadata": {},
          "execution_count": 58
        }
      ]
    },
    {
      "cell_type": "code",
      "source": [
        "def GetConmutadorClifford(C,u,v):\n",
        "  n_uv = [1,-1,-1,-1]\n",
        "  \n",
        "  if u == v:\n",
        "    sign = n_uv[u]\n",
        "  else:\n",
        "    sign = 0\n",
        "\n",
        "  I4 = sym.Matrix([[1,0,0,0],\n",
        "                  [0,1,0,0],\n",
        "                  [0,0,1,0],\n",
        "                  [0,0,0,1]])\n",
        "  \n",
        "  return 2 * sign * I4\n",
        "\n",
        "def GetConmutador2(C,u,v):\n",
        "  return C[u]*C[v] + C[v]*C[u]"
      ],
      "metadata": {
        "id": "ft1kV6UwSfqw"
      },
      "execution_count": null,
      "outputs": []
    },
    {
      "cell_type": "code",
      "source": [
        "GetConmutador2(Dirac,0,0)"
      ],
      "metadata": {
        "colab": {
          "base_uri": "https://localhost:8080/",
          "height": 98
        },
        "id": "JtdeDB9LUUDL",
        "outputId": "4af021aa-e5e8-4473-aee1-2eda1cb8f818"
      },
      "execution_count": null,
      "outputs": [
        {
          "output_type": "execute_result",
          "data": {
            "text/plain": [
              "Matrix([\n",
              "[2, 0, 0, 0],\n",
              "[0, 2, 0, 0],\n",
              "[0, 0, 2, 0],\n",
              "[0, 0, 0, 2]])"
            ],
            "text/latex": "$\\displaystyle \\left[\\begin{matrix}2 & 0 & 0 & 0\\\\0 & 2 & 0 & 0\\\\0 & 0 & 2 & 0\\\\0 & 0 & 0 & 2\\end{matrix}\\right]$"
          },
          "metadata": {},
          "execution_count": 60
        }
      ]
    },
    {
      "cell_type": "code",
      "source": [
        "GetConmutadorClifford(Dirac,0,0)"
      ],
      "metadata": {
        "colab": {
          "base_uri": "https://localhost:8080/",
          "height": 98
        },
        "id": "t9JrWrv5UagM",
        "outputId": "115dfdd7-91ba-45a9-ca17-0f989136ae87"
      },
      "execution_count": null,
      "outputs": [
        {
          "output_type": "execute_result",
          "data": {
            "text/plain": [
              "Matrix([\n",
              "[2, 0, 0, 0],\n",
              "[0, 2, 0, 0],\n",
              "[0, 0, 2, 0],\n",
              "[0, 0, 0, 2]])"
            ],
            "text/latex": "$\\displaystyle \\left[\\begin{matrix}2 & 0 & 0 & 0\\\\0 & 2 & 0 & 0\\\\0 & 0 & 2 & 0\\\\0 & 0 & 0 & 2\\end{matrix}\\right]$"
          },
          "metadata": {},
          "execution_count": 61
        }
      ]
    },
    {
      "cell_type": "code",
      "source": [
        "GetConmutador2(Dirac,0,0) == GetConmutadorClifford(Dirac,0,0)"
      ],
      "metadata": {
        "colab": {
          "base_uri": "https://localhost:8080/"
        },
        "id": "kf2yiJbZU_9V",
        "outputId": "a81a2d13-113a-4347-d7f0-0ddf4f35e678"
      },
      "execution_count": null,
      "outputs": [
        {
          "output_type": "execute_result",
          "data": {
            "text/plain": [
              "True"
            ]
          },
          "metadata": {},
          "execution_count": 62
        }
      ]
    },
    {
      "cell_type": "code",
      "source": [
        "for u in range(4):\n",
        "  for v in range(4):\n",
        "    Conmutador = GetConmutador2(Dirac,u,v)\n",
        "    Clifford = GetConmutadorClifford(Dirac,u,v)\n",
        "    print(u,v)\n",
        "    print(Conmutador == Clifford)"
      ],
      "metadata": {
        "colab": {
          "base_uri": "https://localhost:8080/"
        },
        "id": "Nv_ErwqvXLBJ",
        "outputId": "0be7a1b9-b648-4655-cf2a-efd756627658"
      },
      "execution_count": null,
      "outputs": [
        {
          "output_type": "stream",
          "name": "stdout",
          "text": [
            "0 0\n",
            "True\n",
            "0 1\n",
            "True\n",
            "0 2\n",
            "True\n",
            "0 3\n",
            "True\n",
            "1 0\n",
            "True\n",
            "1 1\n",
            "True\n",
            "1 2\n",
            "True\n",
            "1 3\n",
            "True\n",
            "2 0\n",
            "True\n",
            "2 1\n",
            "True\n",
            "2 2\n",
            "True\n",
            "2 3\n",
            "True\n",
            "3 0\n",
            "True\n",
            "3 1\n",
            "True\n",
            "3 2\n",
            "True\n",
            "3 3\n",
            "True\n"
          ]
        }
      ]
    },
    {
      "cell_type": "markdown",
      "source": [
        "Se puede observar que para cualquier valor de $u$ y $v$, la igualdad se cumple"
      ],
      "metadata": {
        "id": "UuMYFS13Xszl"
      }
    },
    {
      "cell_type": "markdown",
      "source": [
        "# Mínimos Cuadrados"
      ],
      "metadata": {
        "id": "_B8Li63OYY40"
      }
    },
    {
      "cell_type": "markdown",
      "source": [
        "1. Se tienen tres líneas en R2:"
      ],
      "metadata": {
        "id": "iTruuvksjYgB"
      }
    },
    {
      "cell_type": "code",
      "source": [
        "y1 = lambda x: 2*x - 2\n",
        "y2 = lambda x: (1-x)/2\n",
        "y3 = lambda x: 4 - x\n",
        "\n",
        "x_ =  np.linspace(-10,10,1000)"
      ],
      "metadata": {
        "id": "5zLTbD_DaLim"
      },
      "execution_count": null,
      "outputs": []
    },
    {
      "cell_type": "markdown",
      "source": [
        "(a) Con el método de mínimos cuadrados encuentre el punto común a las tres líneas. Grafique las tres líneas y el punto solución, ¿qué interpretación puede dar?"
      ],
      "metadata": {
        "id": "LdqksSOljz7V"
      }
    },
    {
      "cell_type": "code",
      "source": [
        "A = np.array([[2,-1],\n",
        "              [1,2],\n",
        "              [1,1]])\n",
        "\n",
        "b = np.array([2,1,4])"
      ],
      "metadata": {
        "id": "Luh8Ycloa7kq"
      },
      "execution_count": null,
      "outputs": []
    },
    {
      "cell_type": "markdown",
      "source": [
        "![imagen_2023-04-18_174736654.png](data:image/png;base64,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)"
      ],
      "metadata": {
        "id": "iy6QvM1ZjUgF"
      }
    },
    {
      "cell_type": "code",
      "source": [
        "# Calcular la matriz transpuesta de A\n",
        "A_T = A.T\n",
        "\n",
        "# Calcular A_T * A\n",
        "A_T_A = np.dot(A_T, A)\n",
        "\n",
        "# Calcular A_T * b\n",
        "A_T_b = np.dot(A_T, b)\n",
        "\n",
        "# Resolver el sistema de ecuaciones lineales A_T * A * x = A_T * b\n",
        "x = np.linalg.solve(A_T_A, A_T_b)"
      ],
      "metadata": {
        "id": "QVywSR7kdJb-"
      },
      "execution_count": null,
      "outputs": []
    },
    {
      "cell_type": "code",
      "source": [
        "x_sol = x[0]\n",
        "y_sol = x[1]\n",
        "x"
      ],
      "metadata": {
        "colab": {
          "base_uri": "https://localhost:8080/"
        },
        "id": "vN9jBE0JdKrv",
        "outputId": "2fb39dcc-1d2b-4fa0-d52c-fbcc6cbea574"
      },
      "execution_count": null,
      "outputs": [
        {
          "output_type": "execute_result",
          "data": {
            "text/plain": [
              "array([1.42857143, 0.42857143])"
            ]
          },
          "metadata": {},
          "execution_count": 67
        }
      ]
    },
    {
      "cell_type": "code",
      "source": [
        "np.linalg.lstsq(A,b)[0]"
      ],
      "metadata": {
        "colab": {
          "base_uri": "https://localhost:8080/"
        },
        "id": "pPJnHy8ti2Bo",
        "outputId": "64554d78-cfc9-401d-cbe6-e8c3bccc6d6c"
      },
      "execution_count": null,
      "outputs": [
        {
          "output_type": "execute_result",
          "data": {
            "text/plain": [
              "array([1.42857143, 0.42857143])"
            ]
          },
          "metadata": {},
          "execution_count": 68
        }
      ]
    },
    {
      "cell_type": "code",
      "source": [
        "plt.plot(x_, y1(x_), label='2x - y = 2')\n",
        "plt.plot(x_, y2(x_), label='x + 2y = 1')\n",
        "plt.plot(x_, y3(x_), label='x + y = 4')\n",
        "plt.scatter(x_sol, y_sol, color='red', marker='o', label='Punto Común')\n",
        "plt.legend()\n",
        "plt.xlabel('x')\n",
        "plt.ylabel('y')\n",
        "plt.title('Mínimos Cuadrados - Punto Común')"
      ],
      "metadata": {
        "colab": {
          "base_uri": "https://localhost:8080/",
          "height": 489
        },
        "id": "oJB3R2mkdhoS",
        "outputId": "ec3d2464-6d3a-4289-b301-7524376cf516"
      },
      "execution_count": null,
      "outputs": [
        {
          "output_type": "execute_result",
          "data": {
            "text/plain": [
              "Text(0.5, 1.0, 'Mínimos Cuadrados - Punto Común')"
            ]
          },
          "metadata": {},
          "execution_count": 69
        },
        {
          "output_type": "display_data",
          "data": {
            "text/plain": [
              "<Figure size 640x480 with 1 Axes>"
            ],
            "image/png": "[encoded data removed]"
          },
          "metadata": {}
        }
      ]
    },
    {
      "cell_type": "markdown",
      "source": [
        "El punto común hallado anteriormente se puede interpretar como el punto que minimiza la distancia entre las tres rectas"
      ],
      "metadata": {
        "id": "V6eu3D9Mj_sn"
      }
    },
    {
      "cell_type": "markdown",
      "source": [
        "(b) Realice una búsqueda iterativa entre −5 ≤ x ≤ 5 y −5 ≤ y ≤ 5 con un paso de h = 0.01 para encontrar la menor distancia del problema. Grafique la distancia y compare con el resultado obtenido con mínimos cuadrados."
      ],
      "metadata": {
        "id": "CJwCKmbNkP-b"
      }
    },
    {
      "cell_type": "markdown",
      "source": [
        "![imagen_2023-04-18_175220613.png](data:image/png;base64,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)"
      ],
      "metadata": {
        "id": "d9H5FKPCkZ3U"
      }
    },
    {
      "cell_type": "code",
      "source": [
        "from tqdm import tqdm\n",
        "\n",
        "x_new = np.arange(-5,5,0.01)\n",
        "y_new = np.arange(-5,5,0.01)\n",
        "vector = np.zeros((2))\n",
        "comparador = np.inf\n",
        "\n",
        "distancias = np.zeros((len(x_new),len(y_new)))\n",
        "\n",
        "for i in tqdm(range(len(x_new))):\n",
        "  for j in range(len(y_new)):\n",
        "    x_vector = np.array([x_new[i],y_new[j]])\n",
        "    distancia = np.linalg.norm(np.dot(A,x_vector) - b)\n",
        "    distancias[i,j] = distancia\n",
        "\n",
        "    if distancia < comparador:\n",
        "      comparador = distancia\n",
        "      vector = x_vector\n",
        "      \n",
        "\n",
        "vector"
      ],
      "metadata": {
        "colab": {
          "base_uri": "https://localhost:8080/"
        },
        "id": "xrzTfc3kgT39",
        "outputId": "56e071af-500e-4b80-b9ae-efa67a983066"
      },
      "execution_count": null,
      "outputs": [
        {
          "output_type": "stream",
          "name": "stderr",
          "text": [
            "100%|██████████| 1000/1000 [00:15<00:00, 62.73it/s]\n"
          ]
        },
        {
          "output_type": "execute_result",
          "data": {
            "text/plain": [
              "array([1.43, 0.43])"
            ]
          },
          "metadata": {},
          "execution_count": 70
        }
      ]
    },
    {
      "cell_type": "code",
      "source": [
        "vector, x"
      ],
      "metadata": {
        "colab": {
          "base_uri": "https://localhost:8080/"
        },
        "id": "5aq1VfAtsAhe",
        "outputId": "0e4eaaa1-8702-4c96-d96d-a021e01b43aa"
      },
      "execution_count": null,
      "outputs": [
        {
          "output_type": "execute_result",
          "data": {
            "text/plain": [
              "(array([1.43, 0.43]), array([1.42857143, 0.42857143]))"
            ]
          },
          "metadata": {},
          "execution_count": 72
        }
      ]
    },
    {
      "cell_type": "code",
      "source": [
        "fig = plt.figure(figsize=(5,5))\n",
        "X_ , Y_ = np.meshgrid(x_new,y_new)\n",
        "ax = fig.add_subplot(111,projection='3d',xlabel=\"x\",ylabel=\"y\",zlabel=\"z\")\n",
        "ax.view_init(elev=35,azim=45)\n",
        "ax.plot_surface(X_,Y_,distancias, cmap = \"coolwarm\")\n",
        "plt.show()"
      ],
      "metadata": {
        "colab": {
          "base_uri": "https://localhost:8080/",
          "height": 426
        },
        "id": "VrpEln84Yfzz",
        "outputId": "5e4773bd-20a1-4d32-e4f1-5009a9f8f69f"
      },
      "execution_count": null,
      "outputs": [
        {
          "output_type": "display_data",
          "data": {
            "text/plain": [
              "<Figure size 500x500 with 1 Axes>"
            ],
            "image/png": "[encoded data removed]"
          },
          "metadata": {}
        }
      ]
    },
    {
      "cell_type": "markdown",
      "source": [
        "El método de hallar la mínima distancia es más inexacto."
      ],
      "metadata": {
        "id": "Z_8QU67tr79L"
      }
    },
    {
      "cell_type": "markdown",
      "source": [
        "7. (Machine Learning: Logistic Regresion) Descargue los datos de: https://raw.githubusercontent.com/asegura4488/Database/main/MetodosComputacionalesReforma/Sigmoid.csv"
      ],
      "metadata": {
        "id": "0LYw_hhPuxvR"
      }
    },
    {
      "cell_type": "code",
      "source": [
        "url = \"https://raw.githubusercontent.com/asegura4488/Database/main/MetodosComputacionalesReforma/Sigmoid.csv\"\n",
        "DataFrame = pd.read_csv(url,sep=\",\",engine='python')\n",
        "X=np.array(DataFrame[\"x\"])\n",
        "Y=np.array(DataFrame[\"y\"])"
      ],
      "metadata": {
        "id": "o7Y_xiHSsQ_G"
      },
      "execution_count": null,
      "outputs": []
    },
    {
      "cell_type": "code",
      "source": [
        "plt.scatter(X,Y)"
      ],
      "metadata": {
        "colab": {
          "base_uri": "https://localhost:8080/",
          "height": 447
        },
        "id": "cVrQj5Sfr_K0",
        "outputId": "7b680926-e8c8-465c-b359-b87bf58fdcd3"
      },
      "execution_count": null,
      "outputs": [
        {
          "output_type": "execute_result",
          "data": {
            "text/plain": [
              "<matplotlib.collections.PathCollection at 0x7efe941c2550>"
            ]
          },
          "metadata": {},
          "execution_count": 75
        },
        {
          "output_type": "display_data",
          "data": {
            "text/plain": [
              "<Figure size 640x480 with 1 Axes>"
            ],
            "image/png": "[encoded data removed]"
          },
          "metadata": {}
        }
      ]
    },
    {
      "cell_type": "code",
      "source": [
        "theta0, theta1, theta2, x = sym.symbols(\"theta0, theta1, theta2, x\", real=True)"
      ],
      "metadata": {
        "id": "E6z1w2R311Xr"
      },
      "execution_count": null,
      "outputs": []
    },
    {
      "cell_type": "code",
      "source": [
        "def Model():\n",
        "  return theta0 / (theta1 + sym.exp(-theta2*x))\n",
        "\n",
        "def GetGradient():\n",
        "  Model_x = sym.diff(Model(), theta0)\n",
        "  Model_y = sym.diff(Model(), theta1)\n",
        "  Model_z = sym.diff(Model(), theta2)\n",
        "\n",
        "  Model_x_ = sym.lambdify([x,theta0,theta1,theta2], Model_x)\n",
        "  Model_y_ = sym.lambdify([x,theta0,theta1,theta2], Model_y)\n",
        "  Model_z_ = sym.lambdify([x,theta0,theta1,theta2], Model_z)\n",
        "\n",
        "  return Model_x_, Model_y_, Model_z_\n",
        "\n",
        "def GetSolution(Model,x,y,theta,tolerancia,itmax,gamma):\n",
        "  error = tolerancia + 1\n",
        "  iters = 0\n",
        "  Model_x, Model_y, Model_z = GetGradient()\n",
        "\n",
        "  while error > tolerancia and iters < itmax:\n",
        "    sigma = 0\n",
        "\n",
        "    for i in range(len(y)):\n",
        "      Modelx = Model_x(x[i],theta[0], theta[1], theta[2])\n",
        "      Modely = Model_y(x[i],theta[0], theta[1], theta[2])\n",
        "      Modelz = Model_z(x[i],theta[0], theta[1], theta[2])\n",
        "\n",
        "      sigma += (y[i]-Model(x[i],theta[0],theta[1],theta[2]))*np.array([Modelx,Modely,Modelz])\n",
        "    \n",
        "    criteria = gamma * (-2*sigma)\n",
        "    theta_new = theta - criteria\n",
        "    theta = theta_new\n",
        "\n",
        "    error = np.linalg.norm(criteria)\n",
        "    iters += 1\n",
        "\n",
        "  return theta_new\n",
        "\n",
        "Model_ = sym.lambdify([x,theta0,theta1,theta2],Model())\n",
        "theta = np.array([1,1,1])\n",
        "gamma = 1e-3\n",
        "tolerancia = 0.01\n",
        "itmax = 10000"
      ],
      "metadata": {
        "id": "9w1XJggRvE2U"
      },
      "execution_count": null,
      "outputs": []
    },
    {
      "cell_type": "code",
      "source": [
        "theta_solution = GetSolution(Model_,X,Y,theta,tolerancia,itmax,gamma)"
      ],
      "metadata": {
        "id": "ALI9dSW91xVA"
      },
      "execution_count": null,
      "outputs": []
    },
    {
      "cell_type": "code",
      "source": [
        "Reduced_Model = Model().subs([(theta0, theta_solution[0]), \n",
        "                              (theta1, theta_solution[1]),\n",
        "                              (theta2, theta_solution[2])]) \n",
        "\n",
        "Reduced_Model"
      ],
      "metadata": {
        "colab": {
          "base_uri": "https://localhost:8080/",
          "height": 52
        },
        "id": "jY4A2Fw31ya8",
        "outputId": "5510fd6e-24c7-47cf-cf35-df4727da3ec0"
      },
      "execution_count": null,
      "outputs": [
        {
          "output_type": "execute_result",
          "data": {
            "text/plain": [
              "2.13697217430653/(0.458338457725023 + exp(-1.23608938541062*x))"
            ],
            "text/latex": "$\\displaystyle \\frac{2.13697217430653}{0.458338457725023 + e^{- 1.23608938541062 x}}$"
          },
          "metadata": {},
          "execution_count": 79
        }
      ]
    },
    {
      "cell_type": "code",
      "source": [
        "Reduced_Model_ = sym.lambdify([x],Reduced_Model)"
      ],
      "metadata": {
        "id": "_DRQjiNY9FWl"
      },
      "execution_count": null,
      "outputs": []
    },
    {
      "cell_type": "code",
      "source": [
        "X_ = np.linspace(np.min(X),np.max(X),1000)\n",
        "Y_ = Reduced_Model_(X_)"
      ],
      "metadata": {
        "id": "0H0302xQ9Zbh"
      },
      "execution_count": null,
      "outputs": []
    },
    {
      "cell_type": "code",
      "source": [
        "plt.plot(X_,Y_, color=\"red\")\n",
        "plt.scatter(X,Y,marker=\".\")"
      ],
      "metadata": {
        "colab": {
          "base_uri": "https://localhost:8080/",
          "height": 447
        },
        "id": "SvtUVBfD9cmF",
        "outputId": "de94766e-711b-4677-f633-e75e03088e96"
      },
      "execution_count": null,
      "outputs": [
        {
          "output_type": "execute_result",
          "data": {
            "text/plain": [
              "<matplotlib.collections.PathCollection at 0x7efe941e59d0>"
            ]
          },
          "metadata": {},
          "execution_count": 82
        },
        {
          "output_type": "display_data",
          "data": {
            "text/plain": [
              "<Figure size 640x480 with 1 Axes>"
            ],
            "image/png": "[encoded data removed]"
          },
          "metadata": {}
        }
      ]
    }
  ]
}